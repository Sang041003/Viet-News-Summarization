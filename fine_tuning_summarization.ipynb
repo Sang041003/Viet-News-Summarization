{
 "cells": [
  {
   "cell_type": "markdown",
   "id": "2a4b488b",
   "metadata": {},
   "source": [
    "# Libraries"
   ]
  },
  {
   "cell_type": "code",
   "execution_count": 1,
   "id": "cb2d8a96",
   "metadata": {},
   "outputs": [],
   "source": [
    "#%pip install transformers datasets\n",
    "#%pip install accelerate evaluate rouge_score sentencepiece\n",
    "#%pip install torch torchvision torchaudio --index-url https://download.pytorch.org/whl/cu118\n",
    "#%pip install -U scikit-learn\n",
    "#%pip install matplotlib numpy\n",
    "#%pip install transformers\n",
    "#%pip install peft"
   ]
  },
  {
   "cell_type": "code",
   "execution_count": 2,
   "id": "c148bdf7",
   "metadata": {},
   "outputs": [],
   "source": [
    "#%pip install --upgrade transformers accelerate"
   ]
  },
  {
   "cell_type": "markdown",
   "id": "2d822798",
   "metadata": {},
   "source": [
    "# 1. Đọc dữ liệu"
   ]
  },
  {
   "cell_type": "code",
   "execution_count": 3,
   "id": "3287ecd0",
   "metadata": {},
   "outputs": [],
   "source": [
    "import pandas as pd"
   ]
  },
  {
   "cell_type": "code",
   "execution_count": 4,
   "id": "66da3250",
   "metadata": {},
   "outputs": [
    {
     "data": {
      "text/html": [
       "<div>\n",
       "<style scoped>\n",
       "    .dataframe tbody tr th:only-of-type {\n",
       "        vertical-align: middle;\n",
       "    }\n",
       "\n",
       "    .dataframe tbody tr th {\n",
       "        vertical-align: top;\n",
       "    }\n",
       "\n",
       "    .dataframe thead th {\n",
       "        text-align: right;\n",
       "    }\n",
       "</style>\n",
       "<table border=\"1\" class=\"dataframe\">\n",
       "  <thead>\n",
       "    <tr style=\"text-align: right;\">\n",
       "      <th></th>\n",
       "      <th>URL</th>\n",
       "      <th>Title</th>\n",
       "      <th>Summary</th>\n",
       "      <th>Contents</th>\n",
       "      <th>Date</th>\n",
       "      <th>Author(s)</th>\n",
       "      <th>Category</th>\n",
       "      <th>Tags</th>\n",
       "    </tr>\n",
       "  </thead>\n",
       "  <tbody>\n",
       "    <tr>\n",
       "      <th>0</th>\n",
       "      <td>https://laodong.vn/bat-dong-san/thong-tin-ngoc...</td>\n",
       "      <td>Thông tin “Ngọc Trinh mua đất ở Bảo Lộc\" chỉ l...</td>\n",
       "      <td>Lâm Đồng - Lãnh đạo thành phố Bảo Lộc, Lâm Đồn...</td>\n",
       "      <td>Những ngày vừa qua, trên trang Facebook chính ...</td>\n",
       "      <td>Thứ sáu, 20/05/2022 08:56 (GMT+7)</td>\n",
       "      <td>Phương Nhiên</td>\n",
       "      <td>Bất động sản</td>\n",
       "      <td>['Lâm Đồng', 'Ngọc Trinh', 'Chiêu trò', 'Giá đ...</td>\n",
       "    </tr>\n",
       "    <tr>\n",
       "      <th>1</th>\n",
       "      <td>https://laodong.vn/bat-dong-san/lo-hong-trong-...</td>\n",
       "      <td>Lỗ hổng trong việc thẩm tra năng lực tài chính...</td>\n",
       "      <td>TPHCM - Việc không thể cưỡng chế thuế của hai ...</td>\n",
       "      <td>Theo thông tin từ Cục Thuế TP.HCM, hiện cơ qua...</td>\n",
       "      <td>Thứ sáu, 20/05/2022 08:10 (GMT+7)</td>\n",
       "      <td>Gia Miêu</td>\n",
       "      <td>Bất động sản</td>\n",
       "      <td>['Thủ Thiêm', 'Đấu giá đất']</td>\n",
       "    </tr>\n",
       "    <tr>\n",
       "      <th>2</th>\n",
       "      <td>https://laodong.vn/bat-dong-san/som-hoan-thien...</td>\n",
       "      <td>Sớm hoàn thiện các dự án nhà ở xã hội để CNLĐ ...</td>\n",
       "      <td>Hiện trên địa bàn tỉnh Ninh Bình có 32 khu, cụ...</td>\n",
       "      <td>CNLĐ mong muốn sớm được tiếp cận với nhà ở xã ...</td>\n",
       "      <td>Thứ sáu, 20/05/2022 07:47 (GMT+7)</td>\n",
       "      <td>NGUYỄN TRƯỜNG</td>\n",
       "      <td>Bất động sản</td>\n",
       "      <td>['Dự án', 'Nhà ở xã hội', 'Dự án nhà ở xã hội'...</td>\n",
       "    </tr>\n",
       "    <tr>\n",
       "      <th>3</th>\n",
       "      <td>https://laodong.vn/bat-dong-san/chi-tiet-ho-so...</td>\n",
       "      <td>Chi tiết hồ sơ hoàn công nhà ở năm 2022</td>\n",
       "      <td>Hoàn công nhà ở với ý nghĩa là điều kiện để đư...</td>\n",
       "      <td>Hoàn công nhà ở là một thủ tục hành chính tron...</td>\n",
       "      <td>Thứ sáu, 20/05/2022 06:44 (GMT+7)</td>\n",
       "      <td>Kim Nhung (T/H)</td>\n",
       "      <td>Bất động sản</td>\n",
       "      <td>['Giấy phép xây dựng', 'Hồ sơ hoàn công', 'nhà...</td>\n",
       "    </tr>\n",
       "    <tr>\n",
       "      <th>4</th>\n",
       "      <td>https://laodong.vn/bat-dong-san/khoi-tao-khong...</td>\n",
       "      <td>Khởi tạo không gian sống đẳng cấp, đón sóng đầ...</td>\n",
       "      <td>Có rất nhiều lý do khiến những dự án thấp nội ...</td>\n",
       "      <td>Đi dọc đường Lê Văn Lương kéo dài xuống khu Dư...</td>\n",
       "      <td>Thứ năm, 19/05/2022 15:30 (GMT+7)</td>\n",
       "      <td>Huyền Nguyễn</td>\n",
       "      <td>Bất động sản</td>\n",
       "      <td>['An Quý Villa']</td>\n",
       "    </tr>\n",
       "    <tr>\n",
       "      <th>5</th>\n",
       "      <td>https://laodong.vn/bat-dong-san/can-canh-khu-d...</td>\n",
       "      <td>Cận cảnh Khu đô thị Thanh Hà bất ngờ bị \"cò\" đ...</td>\n",
       "      <td>Khu đô thị Thanh Hà Cienco 5 (thuộc quận Hà Đô...</td>\n",
       "      <td>Những ngày qua, đất khu đô thị Thanh Hà Cienco...</td>\n",
       "      <td>Thứ năm, 19/05/2022 14:21 (GMT+7)</td>\n",
       "      <td>CAO NGUYÊN</td>\n",
       "      <td>Bất động sản</td>\n",
       "      <td>['Khu đô thị', 'Xây dựng', 'Khu đô thị Thanh ...</td>\n",
       "    </tr>\n",
       "    <tr>\n",
       "      <th>6</th>\n",
       "      <td>https://laodong.vn/quy-hoach/tiep-tuc-cuong-ch...</td>\n",
       "      <td>Tiếp tục cưỡng chế 15 biệt thự Ocean View Nha ...</td>\n",
       "      <td>Khánh Hòa - Bên cạnh việc tổ chức cưỡng chế, c...</td>\n",
       "      <td>Ngày 19.5, UBND phường Vĩnh Trường cho biết, v...</td>\n",
       "      <td>Thứ năm, 19/05/2022 09:27 (GMT+7)</td>\n",
       "      <td>Hữu Long</td>\n",
       "      <td>Bất động sản</td>\n",
       "      <td>['Khánh Hòa', 'Nha Trang', 'Ocean View Nha Tra...</td>\n",
       "    </tr>\n",
       "    <tr>\n",
       "      <th>7</th>\n",
       "      <td>https://laodong.vn/bat-dong-san/nguyen-tac-thi...</td>\n",
       "      <td>Nguyên tắc thiết kế nhà ở công vụ</td>\n",
       "      <td>Dưới đây là nguyên tắc thiết kế nhà ở công vụ ...</td>\n",
       "      <td>Nhà ở công vụ là loại hình nhà ở được xây dựng...</td>\n",
       "      <td>Thứ năm, 19/05/2022 08:26 (GMT+7)</td>\n",
       "      <td>Kim Nhung (T/H)</td>\n",
       "      <td>Bất động sản</td>\n",
       "      <td>['Nhà công vụ', 'Nhà ở công vụ', 'nhà ở', 'Thi...</td>\n",
       "    </tr>\n",
       "    <tr>\n",
       "      <th>8</th>\n",
       "      <td>https://laodong.vn/bat-dong-san/thanh-hoa-dung...</td>\n",
       "      <td>Thanh Hoá: Dừng đột ngột phiên đấu giá dự án t...</td>\n",
       "      <td>Thanh Hoá - Dự án Trường tiểu học và THCS dân ...</td>\n",
       "      <td>Từ \"rút ống thở\" nửa chừng… Ngày 17.5.2004, UB...</td>\n",
       "      <td>Thứ tư, 18/05/2022 18:28 (GMT+7)</td>\n",
       "      <td>Xuân Hùng</td>\n",
       "      <td>Bất động sản</td>\n",
       "      <td>['Đất vàng', 'Thanh  Hoá', 'Cty Tây Đô', 'Dự á...</td>\n",
       "    </tr>\n",
       "    <tr>\n",
       "      <th>9</th>\n",
       "      <td>https://laodong.vn/nha-dep/kinh-nghiem-thue-vi...</td>\n",
       "      <td>Kinh nghiệm thuê villa, homestay chất lượng kh...</td>\n",
       "      <td>Chuyến du lịch sắp tới, bạn đang phân vân giữa...</td>\n",
       "      <td>Villa là gì? Villa hay được gọi là biệt thự là...</td>\n",
       "      <td>Thứ tư, 18/05/2022 16:30 (GMT+7)</td>\n",
       "      <td>Minh Huy (T/H)</td>\n",
       "      <td>Bất động sản</td>\n",
       "      <td>['Du lịch', 'Tiết kiệm chi phí', 'Nghỉ dưỡng',...</td>\n",
       "    </tr>\n",
       "  </tbody>\n",
       "</table>\n",
       "</div>"
      ],
      "text/plain": [
       "                                                 URL  \\\n",
       "0  https://laodong.vn/bat-dong-san/thong-tin-ngoc...   \n",
       "1  https://laodong.vn/bat-dong-san/lo-hong-trong-...   \n",
       "2  https://laodong.vn/bat-dong-san/som-hoan-thien...   \n",
       "3  https://laodong.vn/bat-dong-san/chi-tiet-ho-so...   \n",
       "4  https://laodong.vn/bat-dong-san/khoi-tao-khong...   \n",
       "5  https://laodong.vn/bat-dong-san/can-canh-khu-d...   \n",
       "6  https://laodong.vn/quy-hoach/tiep-tuc-cuong-ch...   \n",
       "7  https://laodong.vn/bat-dong-san/nguyen-tac-thi...   \n",
       "8  https://laodong.vn/bat-dong-san/thanh-hoa-dung...   \n",
       "9  https://laodong.vn/nha-dep/kinh-nghiem-thue-vi...   \n",
       "\n",
       "                                               Title  \\\n",
       "0  Thông tin “Ngọc Trinh mua đất ở Bảo Lộc\" chỉ l...   \n",
       "1  Lỗ hổng trong việc thẩm tra năng lực tài chính...   \n",
       "2  Sớm hoàn thiện các dự án nhà ở xã hội để CNLĐ ...   \n",
       "3            Chi tiết hồ sơ hoàn công nhà ở năm 2022   \n",
       "4  Khởi tạo không gian sống đẳng cấp, đón sóng đầ...   \n",
       "5  Cận cảnh Khu đô thị Thanh Hà bất ngờ bị \"cò\" đ...   \n",
       "6  Tiếp tục cưỡng chế 15 biệt thự Ocean View Nha ...   \n",
       "7                  Nguyên tắc thiết kế nhà ở công vụ   \n",
       "8  Thanh Hoá: Dừng đột ngột phiên đấu giá dự án t...   \n",
       "9  Kinh nghiệm thuê villa, homestay chất lượng kh...   \n",
       "\n",
       "                                             Summary  \\\n",
       "0  Lâm Đồng - Lãnh đạo thành phố Bảo Lộc, Lâm Đồn...   \n",
       "1  TPHCM - Việc không thể cưỡng chế thuế của hai ...   \n",
       "2  Hiện trên địa bàn tỉnh Ninh Bình có 32 khu, cụ...   \n",
       "3  Hoàn công nhà ở với ý nghĩa là điều kiện để đư...   \n",
       "4  Có rất nhiều lý do khiến những dự án thấp nội ...   \n",
       "5  Khu đô thị Thanh Hà Cienco 5 (thuộc quận Hà Đô...   \n",
       "6  Khánh Hòa - Bên cạnh việc tổ chức cưỡng chế, c...   \n",
       "7  Dưới đây là nguyên tắc thiết kế nhà ở công vụ ...   \n",
       "8  Thanh Hoá - Dự án Trường tiểu học và THCS dân ...   \n",
       "9  Chuyến du lịch sắp tới, bạn đang phân vân giữa...   \n",
       "\n",
       "                                            Contents  \\\n",
       "0  Những ngày vừa qua, trên trang Facebook chính ...   \n",
       "1  Theo thông tin từ Cục Thuế TP.HCM, hiện cơ qua...   \n",
       "2  CNLĐ mong muốn sớm được tiếp cận với nhà ở xã ...   \n",
       "3  Hoàn công nhà ở là một thủ tục hành chính tron...   \n",
       "4  Đi dọc đường Lê Văn Lương kéo dài xuống khu Dư...   \n",
       "5  Những ngày qua, đất khu đô thị Thanh Hà Cienco...   \n",
       "6  Ngày 19.5, UBND phường Vĩnh Trường cho biết, v...   \n",
       "7  Nhà ở công vụ là loại hình nhà ở được xây dựng...   \n",
       "8  Từ \"rút ống thở\" nửa chừng… Ngày 17.5.2004, UB...   \n",
       "9  Villa là gì? Villa hay được gọi là biệt thự là...   \n",
       "\n",
       "                                Date        Author(s)      Category  \\\n",
       "0  Thứ sáu, 20/05/2022 08:56 (GMT+7)     Phương Nhiên  Bất động sản   \n",
       "1  Thứ sáu, 20/05/2022 08:10 (GMT+7)         Gia Miêu  Bất động sản   \n",
       "2  Thứ sáu, 20/05/2022 07:47 (GMT+7)    NGUYỄN TRƯỜNG  Bất động sản   \n",
       "3  Thứ sáu, 20/05/2022 06:44 (GMT+7)  Kim Nhung (T/H)  Bất động sản   \n",
       "4  Thứ năm, 19/05/2022 15:30 (GMT+7)     Huyền Nguyễn  Bất động sản   \n",
       "5  Thứ năm, 19/05/2022 14:21 (GMT+7)       CAO NGUYÊN  Bất động sản   \n",
       "6  Thứ năm, 19/05/2022 09:27 (GMT+7)         Hữu Long  Bất động sản   \n",
       "7  Thứ năm, 19/05/2022 08:26 (GMT+7)  Kim Nhung (T/H)  Bất động sản   \n",
       "8   Thứ tư, 18/05/2022 18:28 (GMT+7)        Xuân Hùng  Bất động sản   \n",
       "9   Thứ tư, 18/05/2022 16:30 (GMT+7)   Minh Huy (T/H)  Bất động sản   \n",
       "\n",
       "                                                Tags  \n",
       "0  ['Lâm Đồng', 'Ngọc Trinh', 'Chiêu trò', 'Giá đ...  \n",
       "1                       ['Thủ Thiêm', 'Đấu giá đất']  \n",
       "2  ['Dự án', 'Nhà ở xã hội', 'Dự án nhà ở xã hội'...  \n",
       "3  ['Giấy phép xây dựng', 'Hồ sơ hoàn công', 'nhà...  \n",
       "4                                   ['An Quý Villa']  \n",
       "5  ['Khu đô thị', 'Xây dựng', 'Khu đô thị Thanh ...  \n",
       "6  ['Khánh Hòa', 'Nha Trang', 'Ocean View Nha Tra...  \n",
       "7  ['Nhà công vụ', 'Nhà ở công vụ', 'nhà ở', 'Thi...  \n",
       "8  ['Đất vàng', 'Thanh  Hoá', 'Cty Tây Đô', 'Dự á...  \n",
       "9  ['Du lịch', 'Tiết kiệm chi phí', 'Nghỉ dưỡng',...  "
      ]
     },
     "execution_count": 4,
     "metadata": {},
     "output_type": "execute_result"
    }
   ],
   "source": [
    "df = pd.read_csv('.\\Dataset_articles_NoID.csv')\n",
    "df.head(10)"
   ]
  },
  {
   "cell_type": "code",
   "execution_count": 5,
   "id": "91ae4812",
   "metadata": {},
   "outputs": [
    {
     "name": "stdout",
     "output_type": "stream",
     "text": [
      "<class 'pandas.core.frame.DataFrame'>\n",
      "RangeIndex: 313320 entries, 0 to 313319\n",
      "Data columns (total 8 columns):\n",
      " #   Column     Non-Null Count   Dtype \n",
      "---  ------     --------------   ----- \n",
      " 0   URL        313320 non-null  object\n",
      " 1   Title      313320 non-null  object\n",
      " 2   Summary    313140 non-null  object\n",
      " 3   Contents   307763 non-null  object\n",
      " 4   Date       313320 non-null  object\n",
      " 5   Author(s)  312499 non-null  object\n",
      " 6   Category   313320 non-null  object\n",
      " 7   Tags       313320 non-null  object\n",
      "dtypes: object(8)\n",
      "memory usage: 19.1+ MB\n"
     ]
    }
   ],
   "source": [
    "df.info()"
   ]
  },
  {
   "cell_type": "code",
   "execution_count": 6,
   "id": "15873dcd",
   "metadata": {},
   "outputs": [
    {
     "data": {
      "text/html": [
       "<div>\n",
       "<style scoped>\n",
       "    .dataframe tbody tr th:only-of-type {\n",
       "        vertical-align: middle;\n",
       "    }\n",
       "\n",
       "    .dataframe tbody tr th {\n",
       "        vertical-align: top;\n",
       "    }\n",
       "\n",
       "    .dataframe thead th {\n",
       "        text-align: right;\n",
       "    }\n",
       "</style>\n",
       "<table border=\"1\" class=\"dataframe\">\n",
       "  <thead>\n",
       "    <tr style=\"text-align: right;\">\n",
       "      <th></th>\n",
       "      <th>URL</th>\n",
       "      <th>Title</th>\n",
       "      <th>Summary</th>\n",
       "      <th>Contents</th>\n",
       "      <th>Date</th>\n",
       "      <th>Author(s)</th>\n",
       "      <th>Category</th>\n",
       "      <th>Tags</th>\n",
       "    </tr>\n",
       "  </thead>\n",
       "  <tbody>\n",
       "    <tr>\n",
       "      <th>count</th>\n",
       "      <td>313320</td>\n",
       "      <td>313320</td>\n",
       "      <td>313140</td>\n",
       "      <td>307763</td>\n",
       "      <td>313320</td>\n",
       "      <td>312499</td>\n",
       "      <td>313320</td>\n",
       "      <td>313320</td>\n",
       "    </tr>\n",
       "    <tr>\n",
       "      <th>unique</th>\n",
       "      <td>290282</td>\n",
       "      <td>288833</td>\n",
       "      <td>288922</td>\n",
       "      <td>284633</td>\n",
       "      <td>252777</td>\n",
       "      <td>19087</td>\n",
       "      <td>39</td>\n",
       "      <td>245322</td>\n",
       "    </tr>\n",
       "    <tr>\n",
       "      <th>top</th>\n",
       "      <td>https://laodong.vn/cong-doan/cuoi-thang-nhieu-...</td>\n",
       "      <td>Dự báo thời tiết 10 ngày tới ở cả ba miền</td>\n",
       "      <td>Cùng báo Lao Động điểm qua những tin tức Hà Nộ...</td>\n",
       "      <td>Giá vàng trong nước  Nguồn: Công ty CP Dịch vụ...</td>\n",
       "      <td>Thứ bảy, 03/04/2021 07:00 (GMT+7)</td>\n",
       "      <td>Thanh Hà</td>\n",
       "      <td>Xã hội</td>\n",
       "      <td>['Hà Nội']</td>\n",
       "    </tr>\n",
       "    <tr>\n",
       "      <th>freq</th>\n",
       "      <td>5</td>\n",
       "      <td>69</td>\n",
       "      <td>49</td>\n",
       "      <td>47</td>\n",
       "      <td>14</td>\n",
       "      <td>5297</td>\n",
       "      <td>58776</td>\n",
       "      <td>1477</td>\n",
       "    </tr>\n",
       "  </tbody>\n",
       "</table>\n",
       "</div>"
      ],
      "text/plain": [
       "                                                      URL  \\\n",
       "count                                              313320   \n",
       "unique                                             290282   \n",
       "top     https://laodong.vn/cong-doan/cuoi-thang-nhieu-...   \n",
       "freq                                                    5   \n",
       "\n",
       "                                            Title  \\\n",
       "count                                      313320   \n",
       "unique                                     288833   \n",
       "top     Dự báo thời tiết 10 ngày tới ở cả ba miền   \n",
       "freq                                           69   \n",
       "\n",
       "                                                  Summary  \\\n",
       "count                                              313140   \n",
       "unique                                             288922   \n",
       "top     Cùng báo Lao Động điểm qua những tin tức Hà Nộ...   \n",
       "freq                                                   49   \n",
       "\n",
       "                                                 Contents  \\\n",
       "count                                              307763   \n",
       "unique                                             284633   \n",
       "top     Giá vàng trong nước  Nguồn: Công ty CP Dịch vụ...   \n",
       "freq                                                   47   \n",
       "\n",
       "                                     Date Author(s) Category        Tags  \n",
       "count                              313320    312499   313320      313320  \n",
       "unique                             252777     19087       39      245322  \n",
       "top     Thứ bảy, 03/04/2021 07:00 (GMT+7)  Thanh Hà   Xã hội  ['Hà Nội']  \n",
       "freq                                   14      5297    58776        1477  "
      ]
     },
     "execution_count": 6,
     "metadata": {},
     "output_type": "execute_result"
    }
   ],
   "source": [
    "df.describe()"
   ]
  },
  {
   "cell_type": "code",
   "execution_count": 7,
   "id": "1a3d60a4",
   "metadata": {},
   "outputs": [
    {
     "data": {
      "text/plain": [
       "URL             0\n",
       "Title           0\n",
       "Summary       180\n",
       "Contents     5557\n",
       "Date            0\n",
       "Author(s)     821\n",
       "Category        0\n",
       "Tags            0\n",
       "dtype: int64"
      ]
     },
     "execution_count": 7,
     "metadata": {},
     "output_type": "execute_result"
    }
   ],
   "source": [
    "df.isnull().sum()"
   ]
  },
  {
   "cell_type": "markdown",
   "id": "de082c53",
   "metadata": {},
   "source": [
    "## Trích chọn đặc trưng"
   ]
  },
  {
   "cell_type": "markdown",
   "id": "f75b7181",
   "metadata": {},
   "source": [
    "Vì sử dụng để fine-tuning mô hình ngôn ngữ để tóm tắt tin tức nên sẽ lấy ra 2 đặc trưng là Summary và Content"
   ]
  },
  {
   "cell_type": "code",
   "execution_count": 8,
   "id": "ede89d1d",
   "metadata": {},
   "outputs": [
    {
     "data": {
      "text/html": [
       "<div>\n",
       "<style scoped>\n",
       "    .dataframe tbody tr th:only-of-type {\n",
       "        vertical-align: middle;\n",
       "    }\n",
       "\n",
       "    .dataframe tbody tr th {\n",
       "        vertical-align: top;\n",
       "    }\n",
       "\n",
       "    .dataframe thead th {\n",
       "        text-align: right;\n",
       "    }\n",
       "</style>\n",
       "<table border=\"1\" class=\"dataframe\">\n",
       "  <thead>\n",
       "    <tr style=\"text-align: right;\">\n",
       "      <th></th>\n",
       "      <th>Contents</th>\n",
       "      <th>Summary</th>\n",
       "    </tr>\n",
       "  </thead>\n",
       "  <tbody>\n",
       "    <tr>\n",
       "      <th>0</th>\n",
       "      <td>Những ngày vừa qua, trên trang Facebook chính ...</td>\n",
       "      <td>Lâm Đồng - Lãnh đạo thành phố Bảo Lộc, Lâm Đồn...</td>\n",
       "    </tr>\n",
       "    <tr>\n",
       "      <th>1</th>\n",
       "      <td>Theo thông tin từ Cục Thuế TP.HCM, hiện cơ qua...</td>\n",
       "      <td>TPHCM - Việc không thể cưỡng chế thuế của hai ...</td>\n",
       "    </tr>\n",
       "    <tr>\n",
       "      <th>2</th>\n",
       "      <td>CNLĐ mong muốn sớm được tiếp cận với nhà ở xã ...</td>\n",
       "      <td>Hiện trên địa bàn tỉnh Ninh Bình có 32 khu, cụ...</td>\n",
       "    </tr>\n",
       "    <tr>\n",
       "      <th>3</th>\n",
       "      <td>Hoàn công nhà ở là một thủ tục hành chính tron...</td>\n",
       "      <td>Hoàn công nhà ở với ý nghĩa là điều kiện để đư...</td>\n",
       "    </tr>\n",
       "    <tr>\n",
       "      <th>4</th>\n",
       "      <td>Đi dọc đường Lê Văn Lương kéo dài xuống khu Dư...</td>\n",
       "      <td>Có rất nhiều lý do khiến những dự án thấp nội ...</td>\n",
       "    </tr>\n",
       "    <tr>\n",
       "      <th>...</th>\n",
       "      <td>...</td>\n",
       "      <td>...</td>\n",
       "    </tr>\n",
       "    <tr>\n",
       "      <th>313315</th>\n",
       "      <td>NaN</td>\n",
       "      <td>Bà Dương Thị Tuyết ở thị trấn Khe Sanh, huyện ...</td>\n",
       "    </tr>\n",
       "    <tr>\n",
       "      <th>313316</th>\n",
       "      <td>NaN</td>\n",
       "      <td>Ngày 25.7, Đại diện Chương trình “Tấm lưới ngh...</td>\n",
       "    </tr>\n",
       "    <tr>\n",
       "      <th>313317</th>\n",
       "      <td>NaN</td>\n",
       "      <td>Ngày 17.7, lãnh đạo Quỹ TLV Lao Động và LĐLĐ t...</td>\n",
       "    </tr>\n",
       "    <tr>\n",
       "      <th>313318</th>\n",
       "      <td>NaN</td>\n",
       "      <td>Nhà báo Trần Đình Chính (tức Trần Hoài Thu) - ...</td>\n",
       "    </tr>\n",
       "    <tr>\n",
       "      <th>313319</th>\n",
       "      <td>NaN</td>\n",
       "      <td>Ngày 2.6, khi nhận được số tiền 500.000 đồng đ...</td>\n",
       "    </tr>\n",
       "  </tbody>\n",
       "</table>\n",
       "<p>313320 rows × 2 columns</p>\n",
       "</div>"
      ],
      "text/plain": [
       "                                                 Contents  \\\n",
       "0       Những ngày vừa qua, trên trang Facebook chính ...   \n",
       "1       Theo thông tin từ Cục Thuế TP.HCM, hiện cơ qua...   \n",
       "2       CNLĐ mong muốn sớm được tiếp cận với nhà ở xã ...   \n",
       "3       Hoàn công nhà ở là một thủ tục hành chính tron...   \n",
       "4       Đi dọc đường Lê Văn Lương kéo dài xuống khu Dư...   \n",
       "...                                                   ...   \n",
       "313315                                                NaN   \n",
       "313316                                                NaN   \n",
       "313317                                                NaN   \n",
       "313318                                                NaN   \n",
       "313319                                                NaN   \n",
       "\n",
       "                                                  Summary  \n",
       "0       Lâm Đồng - Lãnh đạo thành phố Bảo Lộc, Lâm Đồn...  \n",
       "1       TPHCM - Việc không thể cưỡng chế thuế của hai ...  \n",
       "2       Hiện trên địa bàn tỉnh Ninh Bình có 32 khu, cụ...  \n",
       "3       Hoàn công nhà ở với ý nghĩa là điều kiện để đư...  \n",
       "4       Có rất nhiều lý do khiến những dự án thấp nội ...  \n",
       "...                                                   ...  \n",
       "313315  Bà Dương Thị Tuyết ở thị trấn Khe Sanh, huyện ...  \n",
       "313316  Ngày 25.7, Đại diện Chương trình “Tấm lưới ngh...  \n",
       "313317  Ngày 17.7, lãnh đạo Quỹ TLV Lao Động và LĐLĐ t...  \n",
       "313318  Nhà báo Trần Đình Chính (tức Trần Hoài Thu) - ...  \n",
       "313319  Ngày 2.6, khi nhận được số tiền 500.000 đồng đ...  \n",
       "\n",
       "[313320 rows x 2 columns]"
      ]
     },
     "execution_count": 8,
     "metadata": {},
     "output_type": "execute_result"
    }
   ],
   "source": [
    "selected_df = df[['Contents','Summary']]\n",
    "selected_df"
   ]
  },
  {
   "cell_type": "markdown",
   "id": "8659d2a5",
   "metadata": {},
   "source": [
    "## Xử lý missing data và duplicate data"
   ]
  },
  {
   "cell_type": "code",
   "execution_count": 9,
   "id": "d689c55e",
   "metadata": {},
   "outputs": [
    {
     "data": {
      "text/plain": [
       "Contents    5557\n",
       "Summary      180\n",
       "dtype: int64"
      ]
     },
     "execution_count": 9,
     "metadata": {},
     "output_type": "execute_result"
    }
   ],
   "source": [
    "selected_df.isnull().sum()"
   ]
  },
  {
   "cell_type": "code",
   "execution_count": 10,
   "id": "6c9def9c",
   "metadata": {},
   "outputs": [
    {
     "data": {
      "text/plain": [
       "Contents    0\n",
       "Summary     0\n",
       "dtype: int64"
      ]
     },
     "execution_count": 10,
     "metadata": {},
     "output_type": "execute_result"
    }
   ],
   "source": [
    "cleaned_df = selected_df.dropna()\n",
    "cleaned_df.isnull().sum()"
   ]
  },
  {
   "cell_type": "code",
   "execution_count": 11,
   "id": "e2231393",
   "metadata": {},
   "outputs": [
    {
     "name": "stdout",
     "output_type": "stream",
     "text": [
      "Số lượng giá trị trước khi xử lý null: 313320\n",
      "Số lượng giá trị sau khi xử lý null: 307598\n"
     ]
    }
   ],
   "source": [
    "print(f'Số lượng giá trị trước khi xử lý null: {len(selected_df)}')\n",
    "print(f'Số lượng giá trị sau khi xử lý null: {len(cleaned_df)}')"
   ]
  },
  {
   "cell_type": "code",
   "execution_count": 12,
   "id": "65216b40",
   "metadata": {},
   "outputs": [
    {
     "name": "stdout",
     "output_type": "stream",
     "text": [
      "Số lượng giá trị trước khi xử lý trùng lặp: 307598\n",
      "Số lượng giá trị sau khi xử lý trùng lặp: 284664\n"
     ]
    },
    {
     "name": "stderr",
     "output_type": "stream",
     "text": [
      "C:\\Users\\Acer\\AppData\\Local\\Temp\\ipykernel_53104\\764404001.py:2: SettingWithCopyWarning: \n",
      "A value is trying to be set on a copy of a slice from a DataFrame\n",
      "\n",
      "See the caveats in the documentation: https://pandas.pydata.org/pandas-docs/stable/user_guide/indexing.html#returning-a-view-versus-a-copy\n",
      "  cleaned_df.drop_duplicates(inplace=True)\n"
     ]
    }
   ],
   "source": [
    "print(f\"Số lượng giá trị trước khi xử lý trùng lặp: {len(cleaned_df)}\")\n",
    "cleaned_df.drop_duplicates(inplace=True)\n",
    "print(f\"Số lượng giá trị sau khi xử lý trùng lặp: {len(cleaned_df)}\")"
   ]
  },
  {
   "cell_type": "markdown",
   "id": "8c50826a",
   "metadata": {},
   "source": [
    "# 2. Chia tập dữ liệu huấn luyện"
   ]
  },
  {
   "cell_type": "code",
   "execution_count": 13,
   "id": "2f595b8e",
   "metadata": {},
   "outputs": [
    {
     "name": "stderr",
     "output_type": "stream",
     "text": [
      "d:\\Programming\\Research\\Summarization\\venv\\lib\\site-packages\\tqdm\\auto.py:21: TqdmWarning: IProgress not found. Please update jupyter and ipywidgets. See https://ipywidgets.readthedocs.io/en/stable/user_install.html\n",
      "  from .autonotebook import tqdm as notebook_tqdm\n"
     ]
    }
   ],
   "source": [
    "from sklearn.model_selection import train_test_split\n",
    "from datasets import Dataset"
   ]
  },
  {
   "cell_type": "code",
   "execution_count": 14,
   "id": "59be2ccf",
   "metadata": {},
   "outputs": [
    {
     "name": "stderr",
     "output_type": "stream",
     "text": [
      "C:\\Users\\Acer\\AppData\\Local\\Temp\\ipykernel_53104\\2391149540.py:1: SettingWithCopyWarning: \n",
      "A value is trying to be set on a copy of a slice from a DataFrame.\n",
      "Try using .loc[row_indexer,col_indexer] = value instead\n",
      "\n",
      "See the caveats in the documentation: https://pandas.pydata.org/pandas-docs/stable/user_guide/indexing.html#returning-a-view-versus-a-copy\n",
      "  cleaned_df['input'] = 'tóm tắt:' + df['Contents']\n",
      "C:\\Users\\Acer\\AppData\\Local\\Temp\\ipykernel_53104\\2391149540.py:2: SettingWithCopyWarning: \n",
      "A value is trying to be set on a copy of a slice from a DataFrame.\n",
      "Try using .loc[row_indexer,col_indexer] = value instead\n",
      "\n",
      "See the caveats in the documentation: https://pandas.pydata.org/pandas-docs/stable/user_guide/indexing.html#returning-a-view-versus-a-copy\n",
      "  cleaned_df['output'] = df['Summary']\n"
     ]
    }
   ],
   "source": [
    "cleaned_df['input'] = 'tóm tắt:' + df['Contents']\n",
    "cleaned_df['output'] = df['Summary']\n",
    "\n",
    "dataset = cleaned_df[['input','output']]\n",
    "\n",
    "train_data, val_data = train_test_split(dataset,test_size=0.2, random_state=42)\n",
    "\n",
    "# Chuyển đổi Pandas Dataframe thành Hugging Face Dataset\n",
    "train_data = Dataset.from_pandas(train_data)\n",
    "val_data = Dataset.from_pandas(val_data)"
   ]
  },
  {
   "cell_type": "code",
   "execution_count": 15,
   "id": "110c8318",
   "metadata": {},
   "outputs": [
    {
     "name": "stdout",
     "output_type": "stream",
     "text": [
      "Train dataset: 227731\n",
      "Validation dataset: 56933\n",
      "Ex: {'input': 'tóm tắt:Zalgiris Kaunas, đại diện bóng rổ Lithuania, dù đang ngụp lặn dưới đáy BXH Turkish Airlines EuroLeague 2021-2022 nhưng họ được đánh giá là một đội bóng luôn biết cách cản chân các ông lớn của giải trong giai đoạn cuối mùa Regular Season. Chính vì thế, việc đối đầu với Zalgiris ở thời điểm hiện tại đối với FC Barcelona Basquet tưởng chừng dễ mà lại hóa ra khó.\\xa0 FC Barcelona và những sự trở lại cần thiết trước trận đấu Đội bóng của huấn luyện viên Jasikevicius hiện đang chễm chệ trên vị trí số 1 Regular Season. Tuy nhiên, từ vòng đấu thứ 20 cho tới gần đây, đội hình của FC Barcelona liên tục gặp sự xáo trộn do có nhiều thành viên dương tính với COVID-19. Tiêu biểu có thể kể đến như hậu vệ điều phối bóng Nick Calathes, tay ném Arbines hay 2 trung phong Smits và Oriola. Chính bởi sự thiếu hụt nhân sự như vậy, FC Barcelona đã đôi lần hụt hơi trước sự đeo bám gắt gao của đại kình địch Real Madrid. Nhưng thần may mắn đã luôn đứng về phía đại diện Catalunya. Real Madrid đã \"tự bắn vào chân mình\" khi để thua các trận đấu then chốt quyết định thứ hạng và vẫn đang chỉ xếp thứ 2 sau FC Barcelona.\\xa0\\xa0 Tuy vậy, có lẽ FC Barcelona sẽ không phải lo lắng nhiều nữa khi các cầu thủ chủ chốt của họ đã ấn định ngày quay trở lại trước khi trận đấu với Zalgiris Kaunas diễn ra vào ngày 12.3. Cả 4 cái tên kể trên của FC Barcelona đã được thông báo rằng họ có thể thi đấu như bình thường sau khi xét nghiệm âm tính trong lần kiểm tra gần nhất vào hồi tuần qua. Đây là một tin vui dành cho huấn luyện viên Jasikevicius khi ông sẽ có đầy đủ nhân sự trong cuộc hành quân đến sân Zalgirio của Zalgiris Kaunas. Dàn trung phong vốn đang mỏng manh với chỉ 2 cái tên Sanli và Mirotic sẽ có thêm những cái tên để chia sẻ gánh nặng trong việc phòng thủ. Trong khi đó, Nick Calathes nhiều khả năng sẽ quay trở lại với nhiệm vụ cầm bóng, kiến tạo lối chơi và Arbines sẽ là tay ném dự bị hàng đầu có thể ra sân bất kỳ lúc nào. Zalgiris Kaunas - những chuyên gia phản công nhanh tới từ Bắc Âu Zalgiris có thể không phải là một đội bóng quá mạnh trên bình diện toàn Châu Âu. Thế nhưng xét tại giải quốc nội Lithuania,\\xa0 họ cũng là một đội bóng lớn, có tính truyền thống và đội hình có tổ chức tốt. Họ có thể thua nhiều tại mùa giải năm nay nhưng Zalgiris Kaunas luôn biết cách khắc chế các đội bóng lớn. Tiêu biểu là chiến thắng 68-47 trước Real Madrid hay trận thắng 86-75 trước Fenerbahce Beko Istanbul. Đây đều là những đội bóng mạnh tại Turkish Airlines EuroLeague nhưng đều đã bại trận trước Zalgiris Kaunas. Lối chơi của đại diện Lithuania là cách đánh dựa vào tính cơ động của bộ đôi Lukas Lekavicius và Niels Giffey. Vào thời điểm hiện tại của mùa giải, họ đang có phong độ tốt và ổn định. Trong 5 trận đấu gần nhất, đội bóng này đều đã giành chiến thắng và công lớn thuộc về 2 cầu thủ trên. Bài đánh phản công nhanh \"fastbreak\" luôn được họ tận dụng triệt để với tôn chỉ lấy lại điểm số đã mất sớm nhất có thể. Một lợi thế không nhỏ dành cho Zalgiris Kaunas khi họ đã quá quen thuộc với cách vận hành chiến thuật của huấn luyện viên Jasikevicius bên phía đối thủ. Zalgiris Kaunas chính là đội bóng mà “thuyền trưởng” của FC Barcelona khởi nghiệp tại vị trí huấn luyện viên, kể từ năm 2014 tới năm 2020. Những triết lý bóng rổ mà ông Jasikevicius có được tại đây là bệ phóng cho thành công hiện tại của FC Barcelona. Nhưng cũng bởi vậy, họ rất dễ bị Zalgiris Kaunas bắt bài. Trận đấu giữa Zalgiris Kaunas và FC Barcelona sẽ được phát sóng trực tiếp vào 1h00 ngày 12.3.2022. Khán giả có thể theo dõi trực tiếp trọn vẹn trận đấu trên hệ thống truyền hình đa nền tảng của FPT Play, đơn vị sở hữu trọn vẹn bản quyền phát sóng Turkish Airlines EuroLeague tại Việt Nam trong 3 mùa giải liên tiếp từ 2020 - 2023.', 'output': 'FC Barcelona sẽ có chuyến hành quân tới sân Zalgirio của Zalgiris Kaunas, và hứa hẹn sẽ có nhiều khó khăn nếu muốn đánh bại đối thủ Bắc Âu.', '__index_level_0__': 272020}\n"
     ]
    }
   ],
   "source": [
    "print(f\"Train dataset: {len(train_data)}\")\n",
    "print(f\"Validation dataset: {len(val_data)}\")\n",
    "print(f\"Ex: {train_data[0]}\")"
   ]
  },
  {
   "cell_type": "markdown",
   "id": "6ee12a7f",
   "metadata": {},
   "source": [
    "# 3. Khai phá dữ liệu"
   ]
  },
  {
   "cell_type": "code",
   "execution_count": 16,
   "id": "01e5eae0",
   "metadata": {},
   "outputs": [],
   "source": [
    "import matplotlib.pyplot as plt\n",
    "import numpy as np"
   ]
  },
  {
   "cell_type": "code",
   "execution_count": 17,
   "id": "395c2178",
   "metadata": {},
   "outputs": [
    {
     "name": "stderr",
     "output_type": "stream",
     "text": [
      "C:\\Users\\Acer\\AppData\\Local\\Temp\\ipykernel_53104\\2687444253.py:1: SettingWithCopyWarning: \n",
      "A value is trying to be set on a copy of a slice from a DataFrame.\n",
      "Try using .loc[row_indexer,col_indexer] = value instead\n",
      "\n",
      "See the caveats in the documentation: https://pandas.pydata.org/pandas-docs/stable/user_guide/indexing.html#returning-a-view-versus-a-copy\n",
      "  cleaned_df['content_len'] = cleaned_df['Contents'].apply(lambda x: len(x.split()))\n"
     ]
    },
    {
     "name": "stdout",
     "output_type": "stream",
     "text": [
      "Thống kê độ dài bài báo:\n",
      "count    284664.000000\n",
      "mean        501.398340\n",
      "std         383.300744\n",
      "min           1.000000\n",
      "25%         303.000000\n",
      "50%         441.000000\n",
      "75%         613.000000\n",
      "max       40265.000000\n",
      "Name: content_len, dtype: float64\n",
      "\n",
      "Thống kê độ dài tóm tắt:\n",
      "count    284664.000000\n",
      "mean         41.649144\n",
      "std          16.637249\n",
      "min           2.000000\n",
      "25%          30.000000\n",
      "50%          38.000000\n",
      "75%          50.000000\n",
      "max         333.000000\n",
      "Name: summary_len, dtype: float64\n"
     ]
    },
    {
     "name": "stderr",
     "output_type": "stream",
     "text": [
      "C:\\Users\\Acer\\AppData\\Local\\Temp\\ipykernel_53104\\2687444253.py:2: SettingWithCopyWarning: \n",
      "A value is trying to be set on a copy of a slice from a DataFrame.\n",
      "Try using .loc[row_indexer,col_indexer] = value instead\n",
      "\n",
      "See the caveats in the documentation: https://pandas.pydata.org/pandas-docs/stable/user_guide/indexing.html#returning-a-view-versus-a-copy\n",
      "  cleaned_df['summary_len'] = cleaned_df['Summary'].apply(lambda x: len(x.split()))\n"
     ]
    }
   ],
   "source": [
    "cleaned_df['content_len'] = cleaned_df['Contents'].apply(lambda x: len(x.split()))\n",
    "cleaned_df['summary_len'] = cleaned_df['Summary'].apply(lambda x: len(x.split()))\n",
    "\n",
    "print(\"Thống kê độ dài bài báo:\")\n",
    "print(cleaned_df['content_len'].describe())\n",
    "print()\n",
    "print(\"Thống kê độ dài tóm tắt:\")\n",
    "print(cleaned_df['summary_len'].describe())"
   ]
  },
  {
   "cell_type": "markdown",
   "id": "b890b3fd",
   "metadata": {},
   "source": [
    "Biểu đồ phân phối"
   ]
  },
  {
   "cell_type": "code",
   "execution_count": 18,
   "id": "98f142f1",
   "metadata": {},
   "outputs": [
    {
     "data": {
      "image/png": "[encoded data removed]",
      "text/plain": [
       "<Figure size 1200x500 with 2 Axes>"
      ]
     },
     "metadata": {},
     "output_type": "display_data"
    }
   ],
   "source": [
    "plt.figure(figsize=(12,5))\n",
    "\n",
    "plt.subplot(1,2,1)\n",
    "cleaned_df['content_len'].plot(kind='hist', bins=50, title='Phân phối độ dài bài báo')\n",
    "plt.xlabel('Số từ')\n",
    "plt.ylabel('Số lượng bài báo')\n",
    "\n",
    "plt.subplot(1,2,2)\n",
    "cleaned_df['summary_len'].plot(kind='hist', title='Phân phối độ dài tóm tắt')\n",
    "plt.xlabel('Số từ')\n",
    "plt.ylabel('Số lượng bài báo')\n",
    "\n",
    "plt.tight_layout()\n",
    "plt.show()"
   ]
  },
  {
   "cell_type": "markdown",
   "id": "8b6cfc4d",
   "metadata": {},
   "source": [
    "# 4. Chuẩn bị fine-tuning"
   ]
  },
  {
   "cell_type": "markdown",
   "id": "990abe57",
   "metadata": {},
   "source": []
  },
  {
   "cell_type": "code",
   "execution_count": 19,
   "id": "5aaa9d4c",
   "metadata": {},
   "outputs": [],
   "source": [
    "from transformers import AutoTokenizer, AutoModelForSeq2SeqLM"
   ]
  },
  {
   "cell_type": "code",
   "execution_count": 20,
   "id": "e10fb6e1",
   "metadata": {},
   "outputs": [],
   "source": [
    "tokenizer = AutoTokenizer.from_pretrained(\"VietAI/vit5-base-vietnews-summarization\")\n",
    "\n",
    "max_input_length = 640\n",
    "max_target_length = 150\n",
    "\n",
    "def preprocessing(examples):\n",
    "    inputs = [f\"tóm tắt: {article}\" for article in examples['input']]\n",
    "    targets = [summary for summary in examples['output']]\n",
    "\n",
    "    model_inputs = tokenizer(inputs, max_length=max_input_length, truncation=True, padding=True)\n",
    "\n",
    "    labels = tokenizer(text_target=targets, max_length=max_target_length, truncation=True, padding=True)\n",
    "    \n",
    "    model_inputs[\"labels\"] = labels[\"input_ids\"]\n",
    "    return model_inputs"
   ]
  },
  {
   "cell_type": "code",
   "execution_count": 21,
   "id": "0b2706f2",
   "metadata": {},
   "outputs": [
    {
     "name": "stderr",
     "output_type": "stream",
     "text": [
      "Map: 100%|██████████| 246078/246078 [03:00<00:00, 1361.72 examples/s]\n",
      "Map: 100%|██████████| 61520/61520 [00:42<00:00, 1447.96 examples/s]\n"
     ]
    }
   ],
   "source": [
    "columns_to_remove = ['input', 'output', '__index_level_0__']\n",
    "\n",
    "tokenized_train_data = train_data.map(\n",
    "    preprocessing, \n",
    "    batched=True, \n",
    "    remove_columns=columns_to_remove\n",
    ")\n",
    "tokenized_valid_data = val_data.map(\n",
    "    preprocessing, \n",
    "    batched=True, \n",
    "    remove_columns=columns_to_remove\n",
    ")\n"
   ]
  },
  {
   "cell_type": "code",
   "execution_count": 22,
   "id": "38b4a461",
   "metadata": {},
   "outputs": [
    {
     "name": "stdout",
     "output_type": "stream",
     "text": [
      "Kiểm tra dữ liệu tokenized:\n",
      "input_ids: type=<class 'list'>, length=640\n",
      "attention_mask: type=<class 'list'>, length=640\n",
      "labels: type=<class 'list'>, length=150\n"
     ]
    }
   ],
   "source": [
    "print(\"Kiểm tra dữ liệu tokenized:\")\n",
    "sample = tokenized_train_data[0]\n",
    "for key, value in sample.items():\n",
    "    if isinstance(value, list):\n",
    "        print(f\"{key}: type={type(value)}, length={len(value)}\")\n",
    "    else:\n",
    "        print(f\"{key}: type={type(value)}, value={value}\")"
   ]
  },
  {
   "cell_type": "markdown",
   "id": "ab03dc8a",
   "metadata": {},
   "source": [
    "# 5. Huấn luyện"
   ]
  },
  {
   "cell_type": "code",
   "execution_count": 23,
   "id": "46edc820",
   "metadata": {},
   "outputs": [],
   "source": [
    "import torch\n",
    "from transformers import DataCollatorForSeq2Seq, TrainingArguments, Trainer\n",
    "import evaluate\n",
    "from peft import LoraConfig, get_peft_model, TaskType, PeftModel\n",
    "from safetensors.torch import load_file"
   ]
  },
  {
   "cell_type": "code",
   "execution_count": 24,
   "id": "de0d848c",
   "metadata": {},
   "outputs": [
    {
     "name": "stdout",
     "output_type": "stream",
     "text": [
      "trainable params: 884,736 || all params: 226,835,712 || trainable%: 0.3900\n"
     ]
    }
   ],
   "source": [
    "model = AutoModelForSeq2SeqLM.from_pretrained(\"VietAI/vit5-base-vietnews-summarization\")\n",
    "\n",
    "lora_config = LoraConfig(\n",
    "    r=8,  # Rank của ma trận LoRA. Giá trị nhỏ hơn (ví dụ 8, 16, 32) sẽ tiết kiệm VRAM hơn.\n",
    "    lora_alpha=16, # Hệ số tỷ lệ cho LoRA. Thường gấp đôi r.\n",
    "    target_modules=[\"q\", \"v\"], # Các module để áp dụng LoRA (thường là query và value trong attention)\n",
    "    lora_dropout=0.2, # Dropout cho các lớp LoRA\n",
    "    bias=\"none\", # Không huấn luyện bias\n",
    "    task_type=TaskType.SEQ_2_SEQ_LM, # Loại tác vụ, TaskType.SEQ_2_SEQ_LM là phù hợp cho tóm tắt (Encoder-Decoder)\n",
    ")\n",
    "\n",
    "model = get_peft_model(model,lora_config)\n",
    "model.print_trainable_parameters()"
   ]
  },
  {
   "cell_type": "code",
   "execution_count": 25,
   "id": "3d5a6944",
   "metadata": {},
   "outputs": [
    {
     "name": "stdout",
     "output_type": "stream",
     "text": [
      "trainable params: 884,736 || all params: 226,835,712 || trainable%: 0.3900\n"
     ]
    }
   ],
   "source": [
    "# Fine-tuning mô hình đã được fine-tuning tốt nhất được huấn luyện ở lần trước\n",
    "# Đường dẫn đến thư mục chứa mô hình tốt nhất của lần huấn luyện trước\n",
    "best_model_path = \"./my_vit5_summarization_model\"\n",
    "base_model = AutoModelForSeq2SeqLM.from_pretrained(\"VietAI/vit5-base-vietnews-summarization\")\n",
    "\n",
    "model = get_peft_model(base_model,lora_config)\n",
    "\n",
    "model.load_state_dict(load_file(f\"{best_model_path}/adapter_model.safetensors\"), strict = False)\n",
    "model.print_trainable_parameters()"
   ]
  },
  {
   "cell_type": "code",
   "execution_count": 26,
   "id": "04fb7242",
   "metadata": {},
   "outputs": [
    {
     "name": "stdout",
     "output_type": "stream",
     "text": [
      "Huấn luyện trên: GPU\n"
     ]
    }
   ],
   "source": [
    "model.to(\"cuda\" if torch.cuda.is_available() else \"cpu\")\n",
    "print(f\"Huấn luyện trên: {'GPU' if torch.cuda.is_available() else 'CPU'}\")"
   ]
  },
  {
   "cell_type": "code",
   "execution_count": 27,
   "id": "8584752b",
   "metadata": {},
   "outputs": [],
   "source": [
    "data_collator = DataCollatorForSeq2Seq(tokenizer=tokenizer, model=model)\n",
    "\n",
    "metric = evaluate.load(\"rouge\")\n",
    "\n",
    "def compute_metrics(eval_pred):\n",
    "    predictions, labels = eval_pred\n",
    "    \n",
    "    # Xử lý predictions\n",
    "    if isinstance(predictions, tuple):\n",
    "        predictions = predictions[0]  # Lấy logits nếu predictions là tuple\n",
    "    \n",
    "    # Nếu predictions là logits (3D array), lấy argmax để có token IDs\n",
    "    if len(predictions.shape) == 3:\n",
    "        predictions = np.argmax(predictions, axis=-1)\n",
    "    \n",
    "    # Chuyển đổi sang numpy array và đảm bảo kiểu int64\n",
    "    predictions = np.array(predictions, dtype=np.int64)\n",
    "    labels = np.array(labels, dtype=np.int64)\n",
    "    \n",
    "    # Decode predictions\n",
    "    decoded_predictions = tokenizer.batch_decode(predictions, skip_special_tokens=True)\n",
    "    \n",
    "    # Thay thế -100 trong labels và decode\n",
    "    labels = np.where(labels != -100, labels, tokenizer.pad_token_id)\n",
    "    decoded_labels = tokenizer.batch_decode(labels, skip_special_tokens=True)\n",
    "    \n",
    "    # Xử lý chuỗi rỗng để tránh lỗi ROUGE\n",
    "    decoded_predictions = [pred.strip() if pred.strip() else \" \" for pred in decoded_predictions]\n",
    "    decoded_labels = [label.strip() if label.strip() else \" \" for label in decoded_labels]\n",
    "    \n",
    "    # Tính ROUGE scores\n",
    "    try:\n",
    "        result = metric.compute(predictions=decoded_predictions, references=decoded_labels, use_stemmer=True)\n",
    "        result = {k: round(v * 100, 4) for k, v in result.items()}\n",
    "    except Exception as e:\n",
    "        print(f\"Error computing ROUGE: {e}\")\n",
    "        # Trả về giá trị mặc định nếu có lỗi\n",
    "        result = {\"rouge1\": 0.0, \"rouge2\": 0.0, \"rougeL\": 0.0, \"rougeLsum\": 0.0}\n",
    "    \n",
    "    return result"
   ]
  },
  {
   "cell_type": "code",
   "execution_count": 28,
   "id": "d07c2bfd",
   "metadata": {},
   "outputs": [
    {
     "data": {
      "text/plain": [
       "'training_args = TrainingArguments(\\n    output_dir=\"./vit5_summarization_model_results\",\\n    #num_train_epochs=3, # Lần 1, 2 \\n    #num_train_epochs=2, # Lần 5, 6\\n    num_train_epochs=1, # Lần 3, 4, 7, 8, 9, 10, 11, 12\\n    per_device_train_batch_size=1,\\n    per_device_eval_batch_size=1,\\n    #gradient_accumulation_steps=16,\\n    fp16=True,\\n    #save_steps=100, # Lần 1, 2, 8, 9, 10, 12\\n    #save_steps=200, # Lần 3, 4, 5, 7, 11\\n    save_steps=1000,# Lần 13\\n    save_total_limit=3,\\n    #logging_steps=100, # Lần 1, 2, 8, 9, 10, 12\\n    #logging_steps=200, # Lần 3, 4, 5, 7, 11\\n    logging_steps=1000,# Lần 13\\n    eval_strategy=\"steps\",\\n    #eval_steps=100, # Lần 1, 2, 8, 9, 10, 11, 12\\n    #eval_steps=200, # Lần 3, 4, 5, 7\\n    #learning_rate=8e-4, # Lần 9\\n    eval_steps=1000, # Lần 13\\n    learning_rate=7e-4, # Lần 10, 11, 12\\n    #learning_rate=5e-4, # Lần 8\\n    #learning_rate=3e-5, # Lần 7\\n    #learning_rate=2e-5, # Lần 1, 2, 5, 6\\n    #learning_rate=1e-5, # Lần 3, 4\\n    weight_decay=0.01, # Lần 6, 11, 12, 13\\n    #weight_decay=0.05, # Lần 1, 2, 3, 4, 5, 7, 8, 9, 10\\n    #warmup_steps=600, # Lần 7\\n    #warmup_steps=500, # Lần 8, 12\\n    #warmup_steps=400, # Lần 6, 11\\n    #warmup_steps=300, # Lần 9, 10\\n    #warmup_steps=200, # Lần 3, 4, 5\\n    #warmup_steps=100, # Lần 1,2\\n    warmup_steps=5000, # Lần 13\\n    load_best_model_at_end=True,\\n    metric_for_best_model=\"rouge1\",\\n    greater_is_better=True,\\n    report_to=\"none\",\\n    lr_scheduler_type=\"cosine\", # Lần 6, 7, 8, 9, 10, 11, 12, 13\\n)'"
      ]
     },
     "execution_count": 28,
     "metadata": {},
     "output_type": "execute_result"
    }
   ],
   "source": [
    "\"\"\"training_args = TrainingArguments(\n",
    "    output_dir=\"./vit5_summarization_model_results\",\n",
    "    #num_train_epochs=3, # Lần 1, 2 \n",
    "    #num_train_epochs=2, # Lần 5, 6\n",
    "    num_train_epochs=1, # Lần 3, 4, 7, 8, 9, 10, 11, 12\n",
    "    per_device_train_batch_size=1,\n",
    "    per_device_eval_batch_size=1,\n",
    "    #gradient_accumulation_steps=16,\n",
    "    fp16=True,\n",
    "    #save_steps=100, # Lần 1, 2, 8, 9, 10, 12\n",
    "    #save_steps=200, # Lần 3, 4, 5, 7, 11\n",
    "    save_steps=1000,# Lần 13\n",
    "    save_total_limit=3,\n",
    "    #logging_steps=100, # Lần 1, 2, 8, 9, 10, 12\n",
    "    #logging_steps=200, # Lần 3, 4, 5, 7, 11\n",
    "    logging_steps=1000,# Lần 13\n",
    "    eval_strategy=\"steps\",\n",
    "    #eval_steps=100, # Lần 1, 2, 8, 9, 10, 11, 12\n",
    "    #eval_steps=200, # Lần 3, 4, 5, 7\n",
    "    #learning_rate=8e-4, # Lần 9\n",
    "    eval_steps=1000, # Lần 13\n",
    "    learning_rate=7e-4, # Lần 10, 11, 12\n",
    "    #learning_rate=5e-4, # Lần 8\n",
    "    #learning_rate=3e-5, # Lần 7\n",
    "    #learning_rate=2e-5, # Lần 1, 2, 5, 6\n",
    "    #learning_rate=1e-5, # Lần 3, 4\n",
    "    weight_decay=0.01, # Lần 6, 11, 12, 13\n",
    "    #weight_decay=0.05, # Lần 1, 2, 3, 4, 5, 7, 8, 9, 10\n",
    "    #warmup_steps=600, # Lần 7\n",
    "    #warmup_steps=500, # Lần 8, 12\n",
    "    #warmup_steps=400, # Lần 6, 11\n",
    "    #warmup_steps=300, # Lần 9, 10\n",
    "    #warmup_steps=200, # Lần 3, 4, 5\n",
    "    #warmup_steps=100, # Lần 1,2\n",
    "    warmup_steps=5000, # Lần 13\n",
    "    load_best_model_at_end=True,\n",
    "    metric_for_best_model=\"rouge1\",\n",
    "    greater_is_better=True,\n",
    "    report_to=\"none\",\n",
    "    lr_scheduler_type=\"cosine\", # Lần 6, 7, 8, 9, 10, 11, 12, 13\n",
    ")\"\"\""
   ]
  },
  {
   "cell_type": "code",
   "execution_count": 29,
   "id": "a0247fc4",
   "metadata": {},
   "outputs": [],
   "source": [
    "training_args = TrainingArguments(\n",
    "    output_dir=\"./vit5_summarization_model_results\",\n",
    "    num_train_epochs=1,\n",
    "    per_device_train_batch_size=1,\n",
    "    per_device_eval_batch_size=1,\n",
    "    gradient_accumulation_steps=16,\n",
    "    fp16=True,\n",
    "    save_steps=100,\n",
    "    save_total_limit=1,\n",
    "    logging_steps=100,\n",
    "    eval_strategy=\"steps\",\n",
    "    eval_steps=100,\n",
    "    learning_rate=7e-4,\n",
    "    weight_decay=0.015,\n",
    "    warmup_steps= 500,\n",
    "    load_best_model_at_end=True,\n",
    "    metric_for_best_model=\"rougeL\",\n",
    "    greater_is_better=True,\n",
    "    report_to=\"none\",\n",
    "    lr_scheduler_type=\"cosine\",\n",
    ")"
   ]
  },
  {
   "cell_type": "markdown",
   "id": "604d0461",
   "metadata": {},
   "source": [
    "Do giới hạn về phần cứng nên cần chỉ lấy ra một tập mẫu con để huấn luyện"
   ]
  },
  {
   "cell_type": "code",
   "execution_count": 30,
   "id": "40bc0eba",
   "metadata": {},
   "outputs": [
    {
     "data": {
      "text/plain": [
       "'\\n# Lấy tuần tự\\nnum_train_samples_for_test = 6000\\nnum_eval_samples_for_test = 100\\n\\ntokenized_train_data_subset = tokenized_train_data.select(range(min(num_train_samples_for_test, len(tokenized_train_data))))\\ntokenized_valid_data_subset = tokenized_valid_data.select(range(min(num_eval_samples_for_test, len(tokenized_valid_data))))'"
      ]
     },
     "execution_count": 30,
     "metadata": {},
     "output_type": "execute_result"
    }
   ],
   "source": [
    "\"\"\"\n",
    "# Lấy tuần tự\n",
    "num_train_samples_for_test = 6000\n",
    "num_eval_samples_for_test = 100\n",
    "\n",
    "tokenized_train_data_subset = tokenized_train_data.select(range(min(num_train_samples_for_test, len(tokenized_train_data))))\n",
    "tokenized_valid_data_subset = tokenized_valid_data.select(range(min(num_eval_samples_for_test, len(tokenized_valid_data))))\"\"\""
   ]
  },
  {
   "cell_type": "code",
   "execution_count": 31,
   "id": "35603381",
   "metadata": {},
   "outputs": [],
   "source": [
    "# Lấy ngẫu nhiên \n",
    "import random\n",
    "\n",
    "num_train_samples_for_test = 40000\n",
    "num_eval_samples_for_test = 100\n",
    "\n",
    "tokenized_train_data_subset = tokenized_train_data.select(random.sample(range(len(tokenized_train_data)), num_train_samples_for_test))\n",
    "tokenized_valid_data_subset = tokenized_valid_data.select(random.sample(range(len(tokenized_valid_data)), num_eval_samples_for_test))\n"
   ]
  },
  {
   "cell_type": "code",
   "execution_count": 32,
   "id": "4338051f",
   "metadata": {},
   "outputs": [
    {
     "name": "stderr",
     "output_type": "stream",
     "text": [
      "C:\\Users\\Acer\\AppData\\Local\\Temp\\ipykernel_18912\\4142143539.py:1: FutureWarning: `tokenizer` is deprecated and will be removed in version 5.0.0 for `Trainer.__init__`. Use `processing_class` instead.\n",
      "  trainer = Trainer(\n"
     ]
    }
   ],
   "source": [
    "trainer = Trainer(\n",
    "    model=model,\n",
    "    args=training_args,\n",
    "    train_dataset=tokenized_train_data_subset,\n",
    "    eval_dataset=tokenized_valid_data_subset,\n",
    "    tokenizer=tokenizer,\n",
    "    data_collator=data_collator,\n",
    "    compute_metrics=compute_metrics,\n",
    ")"
   ]
  },
  {
   "cell_type": "code",
   "execution_count": 33,
   "id": "5142ac8b",
   "metadata": {},
   "outputs": [
    {
     "name": "stdout",
     "output_type": "stream",
     "text": [
      "Testing DataCollator...\n",
      "DataCollator test thành công!\n",
      "Batch shapes:\n",
      "  input_ids: torch.Size([2, 640])\n",
      "  attention_mask: torch.Size([2, 640])\n",
      "  labels: torch.Size([2, 150])\n",
      "  decoder_input_ids: torch.Size([2, 150])\n"
     ]
    }
   ],
   "source": [
    "print(\"Testing DataCollator...\")\n",
    "try:\n",
    "    # Lấy một vài samples để test\n",
    "    test_samples = [tokenized_train_data_subset[i] for i in range(min(2, len(tokenized_train_data_subset)))]\n",
    "    sample_batch = data_collator(test_samples)\n",
    "    \n",
    "    print(\"DataCollator test thành công!\")\n",
    "    print(\"Batch shapes:\")\n",
    "    for key, value in sample_batch.items():\n",
    "        if hasattr(value, 'shape'):\n",
    "            print(f\"  {key}: {value.shape}\")\n",
    "        else:\n",
    "            print(f\"  {key}: {type(value)}\")\n",
    "            \n",
    "except Exception as e:\n",
    "    print(f\"Lỗi khi test DataCollator: {e}\")\n",
    "    import traceback\n",
    "    traceback.print_exc()"
   ]
  },
  {
   "cell_type": "code",
   "execution_count": 34,
   "id": "834119bc",
   "metadata": {},
   "outputs": [
    {
     "name": "stdout",
     "output_type": "stream",
     "text": [
      "Bắt đầu huấn luyện mô hình...\n"
     ]
    },
    {
     "data": {
      "text/html": [
       "\n",
       "    <div>\n",
       "      \n",
       "      <progress value='2500' max='2500' style='width:300px; height:20px; vertical-align: middle;'></progress>\n",
       "      [2500/2500 33:24:54, Epoch 1/1]\n",
       "    </div>\n",
       "    <table border=\"1\" class=\"dataframe\">\n",
       "  <thead>\n",
       " <tr style=\"text-align: left;\">\n",
       "      <th>Step</th>\n",
       "      <th>Training Loss</th>\n",
       "      <th>Validation Loss</th>\n",
       "      <th>Rouge1</th>\n",
       "      <th>Rouge2</th>\n",
       "      <th>Rougel</th>\n",
       "      <th>Rougelsum</th>\n",
       "    </tr>\n",
       "  </thead>\n",
       "  <tbody>\n",
       "    <tr>\n",
       "      <td>100</td>\n",
       "      <td>21.044900</td>\n",
       "      <td>1.542397</td>\n",
       "      <td>75.097800</td>\n",
       "      <td>48.557600</td>\n",
       "      <td>64.062300</td>\n",
       "      <td>64.032200</td>\n",
       "    </tr>\n",
       "    <tr>\n",
       "      <td>200</td>\n",
       "      <td>1.166800</td>\n",
       "      <td>0.744941</td>\n",
       "      <td>75.615000</td>\n",
       "      <td>49.804400</td>\n",
       "      <td>65.018200</td>\n",
       "      <td>64.974000</td>\n",
       "    </tr>\n",
       "    <tr>\n",
       "      <td>300</td>\n",
       "      <td>0.826600</td>\n",
       "      <td>0.694388</td>\n",
       "      <td>75.736900</td>\n",
       "      <td>50.406100</td>\n",
       "      <td>65.336300</td>\n",
       "      <td>65.290900</td>\n",
       "    </tr>\n",
       "    <tr>\n",
       "      <td>400</td>\n",
       "      <td>0.786200</td>\n",
       "      <td>0.670900</td>\n",
       "      <td>75.620100</td>\n",
       "      <td>50.258300</td>\n",
       "      <td>65.583100</td>\n",
       "      <td>65.548500</td>\n",
       "    </tr>\n",
       "    <tr>\n",
       "      <td>500</td>\n",
       "      <td>0.784200</td>\n",
       "      <td>0.675101</td>\n",
       "      <td>75.798100</td>\n",
       "      <td>50.799000</td>\n",
       "      <td>65.828600</td>\n",
       "      <td>65.793400</td>\n",
       "    </tr>\n",
       "    <tr>\n",
       "      <td>600</td>\n",
       "      <td>0.751100</td>\n",
       "      <td>0.654142</td>\n",
       "      <td>76.081000</td>\n",
       "      <td>51.346000</td>\n",
       "      <td>66.233900</td>\n",
       "      <td>66.233100</td>\n",
       "    </tr>\n",
       "    <tr>\n",
       "      <td>700</td>\n",
       "      <td>0.719200</td>\n",
       "      <td>0.650229</td>\n",
       "      <td>75.794600</td>\n",
       "      <td>51.072600</td>\n",
       "      <td>66.002300</td>\n",
       "      <td>65.967800</td>\n",
       "    </tr>\n",
       "    <tr>\n",
       "      <td>800</td>\n",
       "      <td>0.735600</td>\n",
       "      <td>0.656702</td>\n",
       "      <td>76.038000</td>\n",
       "      <td>50.919000</td>\n",
       "      <td>65.715700</td>\n",
       "      <td>65.731500</td>\n",
       "    </tr>\n",
       "    <tr>\n",
       "      <td>900</td>\n",
       "      <td>0.724200</td>\n",
       "      <td>0.647110</td>\n",
       "      <td>75.737100</td>\n",
       "      <td>50.344700</td>\n",
       "      <td>65.689400</td>\n",
       "      <td>65.634200</td>\n",
       "    </tr>\n",
       "    <tr>\n",
       "      <td>1000</td>\n",
       "      <td>0.727700</td>\n",
       "      <td>0.645517</td>\n",
       "      <td>76.162400</td>\n",
       "      <td>50.972400</td>\n",
       "      <td>66.201200</td>\n",
       "      <td>66.175300</td>\n",
       "    </tr>\n",
       "    <tr>\n",
       "      <td>1100</td>\n",
       "      <td>0.739900</td>\n",
       "      <td>0.642903</td>\n",
       "      <td>76.259600</td>\n",
       "      <td>50.927200</td>\n",
       "      <td>65.876100</td>\n",
       "      <td>65.911700</td>\n",
       "    </tr>\n",
       "    <tr>\n",
       "      <td>1200</td>\n",
       "      <td>0.741800</td>\n",
       "      <td>0.637266</td>\n",
       "      <td>76.245300</td>\n",
       "      <td>51.103700</td>\n",
       "      <td>66.266800</td>\n",
       "      <td>66.278000</td>\n",
       "    </tr>\n",
       "    <tr>\n",
       "      <td>1300</td>\n",
       "      <td>0.702200</td>\n",
       "      <td>0.636290</td>\n",
       "      <td>76.216400</td>\n",
       "      <td>51.626100</td>\n",
       "      <td>66.491100</td>\n",
       "      <td>66.465700</td>\n",
       "    </tr>\n",
       "    <tr>\n",
       "      <td>1400</td>\n",
       "      <td>0.710600</td>\n",
       "      <td>0.637492</td>\n",
       "      <td>76.287600</td>\n",
       "      <td>51.636000</td>\n",
       "      <td>66.391100</td>\n",
       "      <td>66.350400</td>\n",
       "    </tr>\n",
       "    <tr>\n",
       "      <td>1500</td>\n",
       "      <td>0.700200</td>\n",
       "      <td>0.630512</td>\n",
       "      <td>76.352100</td>\n",
       "      <td>51.305100</td>\n",
       "      <td>66.136300</td>\n",
       "      <td>66.101800</td>\n",
       "    </tr>\n",
       "    <tr>\n",
       "      <td>1600</td>\n",
       "      <td>0.721000</td>\n",
       "      <td>0.631108</td>\n",
       "      <td>76.091000</td>\n",
       "      <td>51.240300</td>\n",
       "      <td>66.388600</td>\n",
       "      <td>66.391800</td>\n",
       "    </tr>\n",
       "    <tr>\n",
       "      <td>1700</td>\n",
       "      <td>0.701400</td>\n",
       "      <td>0.631518</td>\n",
       "      <td>76.464700</td>\n",
       "      <td>51.750200</td>\n",
       "      <td>66.575800</td>\n",
       "      <td>66.551900</td>\n",
       "    </tr>\n",
       "    <tr>\n",
       "      <td>1800</td>\n",
       "      <td>0.695100</td>\n",
       "      <td>0.628344</td>\n",
       "      <td>76.246200</td>\n",
       "      <td>51.706000</td>\n",
       "      <td>66.517200</td>\n",
       "      <td>66.487500</td>\n",
       "    </tr>\n",
       "    <tr>\n",
       "      <td>1900</td>\n",
       "      <td>0.726300</td>\n",
       "      <td>0.625910</td>\n",
       "      <td>76.291400</td>\n",
       "      <td>51.585700</td>\n",
       "      <td>66.648100</td>\n",
       "      <td>66.598000</td>\n",
       "    </tr>\n",
       "    <tr>\n",
       "      <td>2000</td>\n",
       "      <td>0.697400</td>\n",
       "      <td>0.627286</td>\n",
       "      <td>76.634600</td>\n",
       "      <td>51.807600</td>\n",
       "      <td>66.802800</td>\n",
       "      <td>66.819700</td>\n",
       "    </tr>\n",
       "    <tr>\n",
       "      <td>2100</td>\n",
       "      <td>0.703500</td>\n",
       "      <td>0.627464</td>\n",
       "      <td>76.608400</td>\n",
       "      <td>51.905800</td>\n",
       "      <td>66.728100</td>\n",
       "      <td>66.727000</td>\n",
       "    </tr>\n",
       "    <tr>\n",
       "      <td>2200</td>\n",
       "      <td>0.722500</td>\n",
       "      <td>0.625846</td>\n",
       "      <td>76.462200</td>\n",
       "      <td>51.942100</td>\n",
       "      <td>66.920500</td>\n",
       "      <td>66.915200</td>\n",
       "    </tr>\n",
       "    <tr>\n",
       "      <td>2300</td>\n",
       "      <td>0.706600</td>\n",
       "      <td>0.625767</td>\n",
       "      <td>76.410500</td>\n",
       "      <td>52.018600</td>\n",
       "      <td>66.909500</td>\n",
       "      <td>66.939200</td>\n",
       "    </tr>\n",
       "    <tr>\n",
       "      <td>2400</td>\n",
       "      <td>0.711700</td>\n",
       "      <td>0.625713</td>\n",
       "      <td>76.275600</td>\n",
       "      <td>51.830700</td>\n",
       "      <td>66.743100</td>\n",
       "      <td>66.720300</td>\n",
       "    </tr>\n",
       "    <tr>\n",
       "      <td>2500</td>\n",
       "      <td>0.705000</td>\n",
       "      <td>0.625736</td>\n",
       "      <td>76.276600</td>\n",
       "      <td>51.823500</td>\n",
       "      <td>66.733200</td>\n",
       "      <td>66.724400</td>\n",
       "    </tr>\n",
       "  </tbody>\n",
       "</table><p>"
      ],
      "text/plain": [
       "<IPython.core.display.HTML object>"
      ]
     },
     "metadata": {},
     "output_type": "display_data"
    },
    {
     "name": "stdout",
     "output_type": "stream",
     "text": [
      "Huấn luyện hoàn tất!\n"
     ]
    }
   ],
   "source": [
    "try:\n",
    "    print(\"Bắt đầu huấn luyện mô hình...\")\n",
    "    trainer.train()\n",
    "    print(\"Huấn luyện hoàn tất!\")\n",
    "except Exception as e:\n",
    "    print(f\"Lỗi trong quá trình huấn luyện: {e}\")\n",
    "    import traceback\n",
    "    traceback.print_exc()"
   ]
  },
  {
   "cell_type": "code",
   "execution_count": 35,
   "id": "43429d5e",
   "metadata": {},
   "outputs": [
    {
     "data": {
      "text/plain": [
       "'# Khi bị ngắt quãng\\n# Tiếp tục huấn luyện từ checkpoint cuối cùng\\ncheckpoint_dir = \"./vit5_summarization_model_results/checkpoint-16000\"\\ntrainer.train(resume_from_checkpoint=checkpoint_dir)'"
      ]
     },
     "execution_count": 35,
     "metadata": {},
     "output_type": "execute_result"
    }
   ],
   "source": [
    "\"\"\"# Khi bị ngắt quãng\n",
    "# Tiếp tục huấn luyện từ checkpoint cuối cùng\n",
    "checkpoint_dir = \"./vit5_summarization_model_results/checkpoint-16000\"\n",
    "trainer.train(resume_from_checkpoint=checkpoint_dir)\"\"\""
   ]
  },
  {
   "cell_type": "markdown",
   "id": "993519c4",
   "metadata": {},
   "source": [
    "## Kết quả\n",
    "### Mỗi lần là huấn luyện sẽ sử dụng 1 tập con được trích xuất ra 1 phần và được lấy theo thứ tự.\n",
    "### Không fine-tuning từ lần huấn luyện trước để so sánh kết quả.\n",
    "### Lần 1\n",
    "num_train_samples_for_test = 2500\n",
    "num_train_samples_for_test = 50\n",
    "Kết quả lần 1: Rouge1 ~65, Rouge2 ~ 43\n",
    "\n",
    "### Lần 2\n",
    "num_train_samples_for_test = 6000\n",
    "num_eval_samples_for_test = 100\n",
    "Kết quả lần 2: Rouge1 ~75, Rouge2 ~49\n",
    "\n",
    "### Lần 3\n",
    "num_train_samples_for_test = 30000\n",
    "num_eval_samples_for_test = 100\n",
    "Kết quả: Tràn VRAM giữa ở step 538/1875, kết quả ở step 400: Rouge1 ~67.78, Rouge2 ~44\n",
    "\n",
    "### Lần 4\n",
    "num_train_samples_for_test = 10000\n",
    "num_eval_samples_for_test = 200\n",
    "Kết quả: Rouge1 ~66, Rouge2 ~43\n",
    "\n",
    "## Lần 5\n",
    "num_train_samples_for_test = 15000\n",
    "num_eval_samples_for_test = 200\n",
    "Kết quả: Rouge1 ~75, Rouge2 ~49\n",
    "\n",
    "## Lần 6\n",
    "num_train_samples_for_test = 8000\n",
    "num_eval_samples_for_test = 100\n",
    "Kết quả: Rouge1 ~75, Rouge2 ~49\n",
    "\n",
    "## Lần 7\n",
    "num_train_samples_for_test = 16000\n",
    "num_eval_samples_for_test = 100\n",
    "Kết quả: Rouge1 ~76, Rouge2 ~50\n",
    "\n",
    "## Lần 8\n",
    "num_train_samples_for_test = 16000\n",
    "num_eval_samples_for_test = 100\n",
    "Kết quả: Rouge1 ~76.5, Rouge2 ~52\n",
    "\n",
    "## Lần 9\n",
    "num_train_samples_for_test = 16000\n",
    "num_eval_samples_for_test = 100\n",
    "Kết quả: Rouge1 ~77, Rouge2 ~52\n",
    "\n",
    "## Lần 10\n",
    "num_train_samples_for_test = 16000\n",
    "num_eval_samples_for_test = 100\n",
    "Kết quả: Rouge1 ~77, Rouge2 ~52\n",
    "\n",
    "## Lần 11\n",
    "num_train_samples_for_test = 17000\n",
    "num_eval_samples_for_test = 100\n",
    "Kết quả: Rouge1 ~76.5, Rouge2 ~52\n",
    "\n",
    "# Lần 12\n",
    "num_train_samples_for_test = 17000\n",
    "num_eval_samples_for_test = 100\n",
    "Kết quả: Rouge1 = 77, rouge2 ~52.5"
   ]
  },
  {
   "cell_type": "markdown",
   "id": "babbcaa5",
   "metadata": {},
   "source": [
    "## Đánh giá"
   ]
  },
  {
   "cell_type": "code",
   "execution_count": 36,
   "id": "d01ad826",
   "metadata": {},
   "outputs": [
    {
     "name": "stdout",
     "output_type": "stream",
     "text": [
      "\n",
      "Bắt đầu đánh giá mô hình trên tập validation...\n"
     ]
    },
    {
     "data": {
      "text/html": [
       "\n",
       "    <div>\n",
       "      \n",
       "      <progress value='50' max='50' style='width:300px; height:20px; vertical-align: middle;'></progress>\n",
       "      [50/50 01:47]\n",
       "    </div>\n",
       "    "
      ],
      "text/plain": [
       "<IPython.core.display.HTML object>"
      ]
     },
     "metadata": {},
     "output_type": "display_data"
    },
    {
     "name": "stdout",
     "output_type": "stream",
     "text": [
      "\n",
      "Kết quả đánh giá cuối cùng:\n",
      "{'eval_loss': 0.630483090877533, 'eval_rouge1': 77.5324, 'eval_rouge2': 54.0484, 'eval_rougeL': 67.7786, 'eval_rougeLsum': 67.7218, 'eval_runtime': 113.5093, 'eval_samples_per_second': 0.44, 'eval_steps_per_second': 0.44, 'epoch': 1.0}\n"
     ]
    }
   ],
   "source": [
    "print(\"\\nBắt đầu đánh giá mô hình trên tập validation...\")\n",
    "\n",
    "num_eval_samples_for_final = 50\n",
    "\n",
    "eval_dataset_for_final = tokenized_valid_data.select(\n",
    "    range(min(num_eval_samples_for_final, len(tokenized_valid_data)))\n",
    ")\n",
    "\n",
    "eval_results = trainer.evaluate(eval_dataset=eval_dataset_for_final)\n",
    "\n",
    "print(\"\\nKết quả đánh giá cuối cùng:\")\n",
    "print(eval_results)"
   ]
  },
  {
   "cell_type": "code",
   "execution_count": 37,
   "id": "ca6663b7",
   "metadata": {},
   "outputs": [
    {
     "name": "stdout",
     "output_type": "stream",
     "text": [
      "Huấn luyện hoàn tất và mô hình đã được lưu tại: ./my_vit5_summarization_model\n"
     ]
    }
   ],
   "source": [
    "# Lưu mô hình đã fine-tuned và tokenizer\n",
    "model_save_path = \"./my_vit5_summarization_model\"\n",
    "model.save_pretrained(model_save_path)\n",
    "tokenizer.save_pretrained(model_save_path)\n",
    "print(f\"Huấn luyện hoàn tất và mô hình đã được lưu tại: {model_save_path}\")"
   ]
  },
  {
   "cell_type": "code",
   "execution_count": 34,
   "id": "6d11c146",
   "metadata": {},
   "outputs": [
    {
     "name": "stdout",
     "output_type": "stream",
     "text": [
      "Đang tải tokenizer từ: ./my_vit5_summarization_model\n",
      "Đang tải mô hình cơ sở...\n",
      "Đang tải LoRA weights từ: ./my_vit5_summarization_model\n",
      "Mô hình và tokenizer đã được tải thành công!\n"
     ]
    }
   ],
   "source": [
    "# Tải tokenizer\n",
    "model_save_path = \"./my_vit5_summarization_model\"\n",
    "print(f\"Đang tải tokenizer từ: {model_save_path}\")\n",
    "tokenizer = AutoTokenizer.from_pretrained(model_save_path)\n",
    "\n",
    "# Tải mô hình cơ sở\n",
    "print(f\"Đang tải mô hình cơ sở...\")\n",
    "base_model = AutoModelForSeq2SeqLM.from_pretrained(\"VietAI/vit5-base-vietnews-summarization\")\n",
    "\n",
    "# Tải LoRA (PEFT) weights đã được huấn luyện\n",
    "print(f\"Đang tải LoRA weights từ: {model_save_path}\")\n",
    "model = PeftModel.from_pretrained(base_model, model_save_path)\n",
    "\n",
    "# Đặt mô hình ở chế độ eval và chuyển sang GPU\n",
    "model.to(\"cuda\")\n",
    "model.eval()\n",
    "\n",
    "print(\"Mô hình và tokenizer đã được tải thành công!\")"
   ]
  },
  {
   "cell_type": "code",
   "execution_count": 75,
   "id": "a7373eff",
   "metadata": {},
   "outputs": [],
   "source": [
    "# Bài báo copy từ trên mạng\n",
    "article_1 = \"\"\"\n",
    "Nửa đầu năm, Thảo Cầm Viên đón gần triệu lượt khách, nhờ đó có lãi hơn 3 tỷ đồng, vượt lợi nhuận cả năm giai đoạn 2014-2022.\n",
    "\n",
    "Theo báo cáo tài chính 6 tháng đầu năm, Công ty TNHH MTV Thảo Cầm Viên Sài Gòn bán ra gần 994.700 vé, tăng khoảng 13% so với cùng kỳ năm trước. Nếu so với lượt khách ghi nhận trong cả năm trước, con số này tương đương 63%.\n",
    "\n",
    "Trong đó, dịch vụ tour đêm được mở từ 19/3 đến nay bán được hơn nghìn vé. Tour chỉ nhận tối đa 40 khách, chia thành 2 khung giờ vào tối thứ Bảy hằng tuần, tập trung khám phá tập tính của những con vật hoạt động về đêm nhưng vẫn có những quy định đặc biệt để tránh ảnh hưởng đến những loài khác.\n",
    "\n",
    "Với gần triệu lượt khách ghé thăm, hoạt động bán vé vào cổng mang về gần 56,6 tỷ đồng cho Thảo Cầm Viên. Song song đó, họ có thêm doanh thu ở các mảng kinh doanh khác, nổi bật có giải khát - ẩm thực, trò chơi, vé xe ôtô và xe gắn máy theo ngày, vé xe lửa - xe điện.\n",
    "\n",
    "Tổng lại, Thảo Cầm Viên ghi nhận hơn 82 tỷ đồng doanh thu trong 6 tháng đầu năm, tăng gần 13% so với cùng kỳ năm trước. Trừ đi giá vốn, họ lãi gộp hơn 23,5 tỷ đồng. Công ty còn có thêm hơn 402 triệu đồng doanh thu hoạt động tài chính.\n",
    "\n",
    "Thảo Cầm Viên nói không với lãi vay nên không tốn chi phí tài chính. Họ cũng không ghi nhận chi phí bán hàng. Nhóm chi phí thường xuyên duy nhất là quản lý doanh nghiệp với hơn 20 tỷ đồng, tăng hơn 26%.\n",
    "\n",
    "Tổng lại, Thảo Cầm Viên lãi hơn 3,2 tỷ đồng trong 6 tháng đầu năm. Con số này sụt 32% nếu so với cùng kỳ nhưng vẫn vượt lợi nhuận cả năm giai đoạn 2014-2022. Nửa đầu năm trước, doanh nghiệp này có lãi chủ yếu nhờ quý đầu năm, trong khi lợi nhuận quý II chỉ 0,3 tỷ đồng. Còn ở quý II năm nay, công ty vẫn lãi khoảng 1 tỷ đồng.\n",
    "\n",
    "Tính đến cuối tháng 6, tổng tài sản của công ty đạt hơn 877 tỷ đồng, chủ yếu là chi phí xây dựng dở dang và tài sản cố định. Nợ phải trả ghi nhận hơn 30 tỷ đồng, phần lớn là các khoản phải trả người lao động, thuế và các khoản phải nộp Nhà nước.\n",
    "\n",
    "Công ty TNHH MTV Thảo Cầm Viên là doanh nghiệp 100% vốn thuộc UBND TP HCM, vận hành công trình cùng tên tại phường Sài Gòn (trung tâm Quận 1 cũ). Được xây dựng từ năm 1864 với tên gọi đầu tiên là Vườn Bách Thảo, sau đó được người dân quen gọi là Sở thú. Công trình có tuổi đời hơn 160 năm và trở thành khu bảo tồn, nhân giống, phát triển về động, thực vật.\n",
    "\n",
    "Từ năm 2015, Thảo Cầm Viên hoạt động tự chủ hoàn toàn về tài chính, ngân sách không hỗ trợ.\n",
    "\n",
    "Cuối năm trước, Chi cục Thuế quận 1 cũ (TP HCM) ban hành thông báo tiền nợ thuế của Thảo Cầm Viên Sài Gòn tính đến ngày 31/10 là hơn 846 tỷ đồng tính trên tổng diện tích 158.117 m2. Tuy nhiên, lãnh đạo công ty khẳng định họ chỉ dành 5.590 m2, tức chiếm hơn 3,5% tổng diện tích, để kinh doanh dịch vụ. Toàn bộ đất còn lại được làm chuồng trại, cảnh quan công viên và dịch vụ công cộng không vì mục đích lợi nhuận.\n",
    "\n",
    "Sau đó, UBND TP HCM điều chỉnh giao hơn 96% diện tích đất có mục đích công cộng cho Thảo Cầm Viên quản lý, sử dụng. Với phần đất còn lại để kinh doanh (bãi giữ xe, quầy giải khát, khu ẩm thực, khu trò chơi, văn phòng làm việc...), doanh nghiệp này sẽ tiếp tục thuê theo hình thức trả tiền hằng năm. Căn cứ theo đó, cơ quan thuế cũng được giao tính lại tiền thuê đất cho công ty.\n",
    "\"\"\"\n",
    "\n",
    "article_2 = \"\"\"\n",
    "Vào Biển Đông đêm nay, bão Fengshen sẽ mạnh lên cấp 9 với sức gió 88 km/h và có thể đạt cực đại cấp 11 khi tiến gần đặc khu Hoàng Sa.\n",
    "\n",
    "Trung tâm Dự báo Khí tượng Thủy văn quốc gia cho biết rạng sáng nay, tâm bão ở phía đông miền Trung Philippines, sức gió mạnh nhất 74 km/h, cấp 8, giật cấp 10 và đang theo hướng tây tây bắc với tốc độ 20 km/h.\n",
    "\n",
    "Hôm nay, bão vượt qua đảo Luzon của Philippines vào Biển Đông. Được tiếp thêm năng lượng từ biển, Fengshen mạnh lên cấp 9, đến 1h ngày mai thì ở trên vùng biển phía đông của Bắc Biển Đông, tiếp tục giữ hướng tây bắc, tốc độ 20-25 km/h.\n",
    "\n",
    "Đến 1h ngày 21/10, bão trên vùng biển phía đông của bắc Biển Đông, cách đặc khu Hoàng Sa khoảng 380 km về phía đông bắc, mạnh lên cấp 10, giật cấp 13.\n",
    "\n",
    "Do tương tác với không khí lạnh từ phía bắc tràn xuống, bão quặt xuống phía nam theo hướng tây tây nam, tốc độ giảm còn 10 km/h. Đến 1h ngày 22/10, bão cách đặc khu Hoàng Sa 190 km, đạt cực đại cấp 11, sức gió 117 km/h.\n",
    "\n",
    "Đài khí tượng Nhật Bản cho biết bão đang trên đất liền miền Trung Philippines, hôm nay vào Biển Đông với sức gió 65 km/h, đạt cực đại 108 km/h vào ngày 21/10. Đài Hong Kong dự báo gió bão có thể mạnh 120 km/h khi ở phía đông bắc đặc khu Hoàng Sa.\n",
    "\n",
    "Vùng biển phía đông bắc Biển Đông gió mạnh dần lên từ cấp 6 đến 9, giật cấp 11, sóng biển cao 2,5-5 m. Các ngày 20-22/10, bắc Biển Đông (gồm đặc khu Hoàng Sa) có khả năng chịu tác động của gió cấp 10-11, giật cấp 13. Toàn bộ thuyền hoạt động trong vùng nguy hiểm này có khả năng chịu ảnh hưởng.\n",
    "\n",
    "Trung tâm Dự báo Khí tượng Thủy văn quốc gia nhận định bão Fengshen khi tương tác với không khí lạnh sẽ giảm cường độ nên khả năng duy trì cấp độ bão vào miền Trung là không cao. Tuy nhiên, hoàn lưu bão kết hợp với không khí lạnh khiến vùng biển bắc, giữa Biển Đông (gồm đặc khu Hoàng Sa), vịnh Bắc Bộ cũng như biển Quảng Trị - Quảng Ngãi có gió cấp 6-8 trở lên, sóng biển cao 3-4 m.\n",
    "\n",
    "Cùng với đó, trong vài ngày tới, cả hoàn lưu bão Fengshen và không khí lạnh cùng tác động sẽ gây mưa to từ Hà Tĩnh đến Quảng Ngãi vào ngày 23-26/10. Hiện bão còn ở xa, cơ quan khí tượng chưa đưa ra nhận định về lượng mưa.\n",
    "\n",
    "Từ nay đến cuối năm, Biển Đông dự báo còn khoảng ba cơn bão, áp thấp nhiệt đới, trong đó 1-2 cơn có thể ảnh hưởng đất liền Việt Nam. Từ đầu năm đến nay Biển Đông xuất hiện 11 cơn bão, 4 áp thấp nhiệt đới. Trong đó các cơn bão Wutip, Wipha, Kajiki, Nongfa, Ragasa, Bualoi, Matmo ảnh hưởng trực tiếp hoặc gây mưa lũ lớn cho miền Bắc và Trung.\n",
    "\n",
    "Thiên tai từ đầu năm đến nay đã làm 241 người chết, mất tích, 389 người bị thương; 261.000 nhà bị hư hỏng, tốc mái; 594.000 ha lúa, hoa màu, cây trồng khác bị ngập úng; 30.800 gia súc, 2,7 triệu gia cầm bị chết, cuốn trôi... Tổng thiệt hại kinh tế trên 53.800 tỷ đồng.\n",
    "\"\"\"\n",
    "article_3 = \"\"\"\n",
    "Diễn viên Kim Woo-bin thừa nhận lơ là sức khỏe, \"chỉ ngủ 1 tiếng dù có 3 tiếng nghỉ\", khiến anh đối mặt với căn bệnh ung thư vòm họng khi đang ở đỉnh cao sự nghiệp.\n",
    "\n",
    "Xuất hiện trong chương trình giải trí Fairy Jaehyung trên YouTube hôm 12/10, nam diễn viên Kim Woo-bin, 36 tuổi, chia sẻ về quá trình chiến đấu với bệnh ung thư và quan điểm sống mới của mình. Anh được chẩn đoán mắc ung thư vòm họng vào năm 2017 và hiện đã \"sạch\" bệnh.\n",
    "\n",
    "\"Tôi không còn nhớ về cơn đau nữa. Cơn đau khi đó quá dữ dội. Rồi sau đó, nó dường như chưa từng tồn tại trong cuộc đời tôi. Tôi chỉ giữ lại những điều tốt đẹp mà thôi\", Kim nói, cho biết hiện ưu tiên hàng đầu của mình là sức khỏe và nghỉ ngơi. Sau những trải nghiệm sinh tử, anh cảm thấy tâm hồn mình thật sự nhẹ nhàng và hạnh phúc.\n",
    "\n",
    "Tài tử này tiết lộ từng có thói quen lơ là sức khỏe. \"Đã có lúc, dù chỉ có 3 tiếng để ngủ, tôi cũng chỉ nghỉ một tiếng, thời gian còn lại để tập thể dục\", anh kể. \"Bây giờ tôi ngủ nghỉ đầy đủ vì nghĩ cho sức khỏe của mình. Tôi hiện khỏe mạnh hơn nhiều. Quãng thời gian tạm nghỉ để điều trị đã mang lại cho tôi nhiều điều tốt đẹp\".\n",
    "\n",
    "Ung thư vòm họng, căn bệnh Kim Woo-bin mắc phải, là một loại ung thư vùng đầu và cổ tương đối hiếm gặp. Các triệu chứng ban đầu có thể bao gồm đột ngột khàn giọng, thay đổi giọng nói dai dẳng, viêm miệng, nổi cục ở lưỡi, loét miệng, nghẹt mũi một bên liên tục và chảy dịch mũi có lẫn máu.\n",
    "\n",
    "Do vòm họng nằm gần não, ung thư nếu không được điều trị có thể tiến triển và gây liệt dây thần kinh sọ. Giống như nhiều bệnh ung thư khác, phát hiện sớm là yếu tố then chốt. Các chuyên gia khuyến cáo nếu các triệu chứng như nghẹt mũi một bên hoặc cảm giác nặng tai kéo dài, người bệnh nên đi khám bác sĩ kịp thời. Phẫu thuật ở khu vực này rất khó khăn, vì vậy xạ trị thường là phương pháp điều trị chính.\n",
    "\n",
    "Câu chuyện của Kim Woo-bin là lời nhắc nhở về mối liên hệ giữa lối sống và bệnh hiểm nghèo, đồng thời cho thấy vì sao nghỉ ngơi cũng quan trọng đối với quá trình phục hồi như chính việc điều trị. Giấc ngủ đóng vai trò then chốt trong hệ thống miễn dịch. Thiếu ngủ mạn tính có thể làm tăng nguy cơ viêm nhiễm, bệnh tim mạch, thậm chí là ung thư. Theo Hiệp hội Ung thư Mỹ, ngủ đủ 7-8 tiếng mỗi ngày là cách hiệu quả để phòng ngừa bệnh.\n",
    "\n",
    "Nhiều nghiên cứu đã chỉ ra nguy cơ của việc phá vỡ nhịp sinh học. Một nghiên cứu trên Tạp chí Y học Nghề nghiệp và Môi trường, khảo sát hơn 3.000 người (tuổi từ 35 đến 74), phát hiện phụ nữ thường xuyên làm ca đêm có nguy cơ mắc ung thư buồng trứng giai đoạn tiến triển cao hơn 24% so với người làm giờ hành chính. Nhóm nghiên cứu cho rằng làm ca đêm ảnh hưởng đến việc tiết melatonin, hormone có vai trò ức chế tế bào ung thư. Tương tự, một nghiên cứu của Canada cho thấy nam giới thường xuyên làm ca đêm có nguy cơ mắc ung thư tuyến tiền liệt cao gấp ba lần.\n",
    "\n",
    "Các chuyên gia y tế cảnh báo nhiều người lầm tưởng cơ thể có thể thích nghi với việc ngủ ít nhưng ảnh hưởng của nó sẽ tích tụ theo thời gian. Họ cũng khuyến cáo không nên \"ngủ bù\" vào cuối tuần, vì điều này có thể phá vỡ nhịp sinh học thay vì giúp cơ thể phục hồi.\n",
    "\n",
    "Kim Woo-bin ra mắt năm 2008 trong một buổi trình diễn thời trang và chính thức bước chân vào nghiệp diễn năm 2011 với bộ phim truyền hình White Christmas. Khi đang ở đỉnh cao sự nghiệp, anh bất ngờ được chẩn đoán mắc ung thư vòm họng, buộc phải tạm dừng công việc để tập trung điều trị. Nam diễn viên trở lại màn ảnh vào năm 2022 với bộ phim Our Blues và hiện tham gia tác phẩm của Netflix, Everything Will Come True.\n",
    "\"\"\"\n",
    "\n",
    "article_4 = \"\"\"\n",
    "Ấn ĐộNgay trước khi giàn hỏa được châm, ông Mohan Lal, 74 tuổi, bất ngờ bật dậy khỏi tấm khăn liệm, nói chỉ muốn \"thử xem ai thực sự quan tâm đến mình\".\n",
    "\n",
    "Chiều 14/10, không khí tại khu hỏa táng Mukti Dham ở thành phố Gaya, bang Bihar, Ấn Độ trang nghiêm như mọi lễ tiễn biệt. Một đoàn lễ tang tiến vào, tiếng kèn trống vang lên giữa những câu tụng \"Ram naam satya hai\".\n",
    "\n",
    "Hàng trăm người dân trong vùng đổ về khu hỏa táng để dự lễ tang. Người thân và bạn bè gánh trên vai chiếc cáng tre phủ đầy hoa, tưởng rằng đang đưa Mohan Lal về nơi an nghỉ cuối cùng.\n",
    "\n",
    "Nhưng khi đoàn vừa chuẩn bị châm lửa, ông Mohan Lal bất ngờ ngồi dậy, tháo tấm khăn trắng trên người trong sự kinh ngạc tột độ của mọi người.\n",
    "\n",
    "\"Sau khi chết, người ta thường được khiêng đi trên cáng tang. Tôi chỉ muốn tự mình chứng kiến cảnh đó, để biết mọi người dành cho tôi bao nhiêu tình cảm và sự tôn trọng\", ông Mohan Lal, cựu sĩ quan Không quân Ấn Độ (IAF) giải thích.\n",
    "\n",
    "Đây là lần đầu tiên ở quận Gaya có người giả chết như Mohan Lal. Để hoàn tất nghi thức, một hình nộm tượng trưng được hỏa thiêu thay cho ông. Sau đó cả làng cùng dự một bữa tiệc chung.\n",
    "\n",
    "Tuy nhiên, hành động của Mohan không chỉ là một trò thử lòng. Ông thực hiện nghi lễ này còn nhằm khánh thành khu hỏa táng mới, do chính mình bỏ tiền xây dựng để giúp dân làng.\n",
    "\n",
    "Mohan Lal đã nghỉ hưu nhiều năm và vẫn tích cực làm công tác xã hội. Ông cho biết sẽ \"tiếp tục cống hiến cho đến hơi thở cuối cùng\".\n",
    "\n",
    "Người dân địa phương nói rằng họ kính trọng ông vì những đóng góp cho cộng đồng.\n",
    "\"\"\"\n",
    "\n",
    "article_5 = \"\"\"\n",
    "Brian Niccol, CEO Starbucks, xác nhận đang dùng AI hỗ trợ nhân viên và nêu viễn cảnh AI dự đoán món trước khi khách hàng đặt đơn.\n",
    "\n",
    "Tại Dreamforce, hội nghị công nghệ thường niên của công ty phần mềm Salesforce ở San Francisco tuần này, Brian Niccol cho biết Starbucks mới đang học hỏi và thử nghiệm AI, nhưng công nghệ này đã bắt đầu \"giúp hiện thực hóa mục tiêu trở lại vị thế công ty có dịch vụ khách hàng tốt nhất thế giới một lần nữa\".\n",
    "\n",
    "AI có ảnh hưởng lớn nhất tại Starbucks hiện là Green Dot, công cụ đóng vai trò trợ lý pha chế. Nếu nhân viên gặp sự cố về thiết bị hoặc cần hướng dẫn cách pha chế một loại đồ uống nhất định, Green Dot sẽ nhanh chóng đưa ra câu trả lời hoặc giải pháp phù hợp. Đại diện của Starbucks chia sẻ với Fortune, Green Dot hoạt động thử nghiệm từ tháng 6 và hiện được triển khai rộng.\n",
    "\n",
    "Một công cụ AI quan trọng khác hỗ trợ nhân viên theo thời gian thực, giúp giảm sự bất tiện về dịch vụ là Smart Q. Công cụ giải quyết tình trạng hỗn loạn vận hành, khi các đơn hàng đến từ 4 hình thức: drive-thru (mua hàng không cần xuống xe), giao hàng, đặt qua ứng dụng di động rồi đến lấy, đặt món tại quầy. Niccol cho biết, Starbucks đang xử lý mọi đơn hàng theo kiểu \"đến trước, làm trước\", tạo ra nhiều \"nút thắt cổ chai\".\n",
    "\n",
    "Smart Q giúp giải quyết điểm nghẽn này bằng cách ưu tiên xử lý đúng đơn hàng vào thời gian tối ưu. Mục tiêu là tốc độ và độ chính xác: đảm bảo đồ uống được giao trong vòng 4 phút cho khách tại quán hoặc drive-thru, và đúng giờ cho đơn hàng đặt qua ứng dụng di động. Khách cũng có thể thấy hoạt động của hệ thống thông qua màn hình kỹ thuật số hiển thị trạng thái đơn là \"đã nhận\", \"đang xử lý\" hay \"sẵn sàng\".\n",
    "\n",
    "Niccol xác định ứng dụng Starbucks là trọng tâm cho việc tích hợp AI trong tương lai, đặc biệt là khả năng dự đoán đơn của khách. Ứng dụng đã có tính năng cho phép người dùng chọn lại đơn hàng gần nhất. Tuy nhiên, Niccol cho rằng vẫn còn nhiều cơ hội để cải tiến, giúp quá trình đặt hàng \"thậm chí nhanh và liền mạch hơn\".\n",
    "\n",
    "Niccol hình dung viễn cảnh nơi mọi rào cản trong trải nghiệm khách hàng đều bị loại bỏ, khi AI được tích hợp sâu đến mức người dùng có thể không cần mở ứng dụng. Ông gợi ý: \"Người dùng chỉ cần nói vào điện thoại 'Tôi cần đơn hàng Starbucks của mình. Tôi sẽ đến trong 10 phút nữa', và đồ uống sẽ sẵn sàng khi họ tới cửa hàng\".\n",
    "\n",
    "Bất chấp những tiến bộ của AI, Niccol nhanh chóng bác bỏ mọi ý tưởng về việc thay thế hoàn toàn nhân viên bằng robot, khẳng định \"vẫn còn cách rất xa\" điều đó. Ông nhấn mạnh, Starbucks tập trung vào việc đưa thêm nhiều nhân viên trở lại quán để mang đến trải nghiệm tuyệt vời, không máy móc, dựa trên tay nghề thủ công thực sự. AI chỉ đang được tận dụng để tăng năng suất và giúp nhân viên hoàn thành nhiệm vụ nhanh hơn.\n",
    "\n",
    "Trong cuộc phỏng vấn với tổng biên tập LinkedIn tuần này, Howard Schultz, cựu CEO Starbucks, cho biết AI đang phát triển rất nhanh và nhà quản lý đang tụt hậu rất xa, họ thậm chí không biết vấn đề là gì. Schultz ủng hộ việc ứng dụng AI, nhưng bày tỏ sự lo ngại \"với tư cách là một công dân bình thường\". Ông nói: \"Tôi thực sự lo lắng về tác động bất lợi mà công nghệ này có thể gây ra\".\n",
    "\"\"\"\n",
    "# Thêm tiền tố và token hóa bài báo\n",
    "prefix = \"tóm tắt các thông tin quan trọng trong bài báo sau: \\n\"\n",
    "input_text_1 = prefix + article_1\n",
    "input_text_2 = prefix + article_2\n",
    "input_text_3 = prefix + article_3\n",
    "input_text_4 = prefix + article_4\n",
    "input_text_5 = prefix + article_5"
   ]
  },
  {
   "cell_type": "code",
   "execution_count": 76,
   "id": "8c2653f2",
   "metadata": {},
   "outputs": [
    {
     "name": "stdout",
     "output_type": "stream",
     "text": [
      "\n",
      "--- Bài tóm tắt được tạo ra ---\n",
      "Công ty TNHH MTV Thảo Cầm Viên Sài Gòn ghi nhận hơn 82 tỷ đồng doanh thu trong 6 tháng đầu năm, vượt lợi nhuận cả năm giai đoạn 2014-2022.\n",
      "\n",
      "Hôm nay (21/10), bão Fengshen tiến vào Biển Đông với sức gió mạnh nhất 74 km/h, cấp 8, giật cấp 10 và có thể đạt cực đại cấp 11 khi tiến gần đặc khu Hoàng Sa.\n",
      "\n",
      "Nam diễn viên Kim Woo-bin thừa nhận không ngủ đủ 3 tiếng mỗi ngày để đối mặt với căn bệnh ung thư vòm họng.\n",
      "\n",
      "Một cựu sĩ quan Không quân Ấn Độ bất ngờ bật dậy khỏi tấm khăn liệm, tháo tấm khăn trắng trên người trước sự kinh ngạc tột độ của mọi người.\n",
      "\n",
      "Tại hội nghị công nghệ thường niên của công ty phần mềm Salesforce ở San Francisco tuần này, Brian Niccol cho biết đang dùng AI hỗ trợ nhân viên theo thời gian thực.\n"
     ]
    }
   ],
   "source": [
    "def generate_summarization(input_text):\n",
    "    # Token hóa văn bản input\n",
    "    input_ids = tokenizer(\n",
    "        input_text,\n",
    "        return_tensors=\"pt\",\n",
    "        max_length=640,\n",
    "        truncation=True,\n",
    "        padding=\"max_length\"\n",
    "    ).input_ids.to(\"cuda\")\n",
    "\n",
    "    # Đặt mô hình ở chế độ no_grad để không tính toán gradient\n",
    "    with torch.no_grad():\n",
    "        # Sử dụng model.generate() để tạo tóm tắt\n",
    "        # max_new_tokens: Độ dài tối đa của tóm tắt\n",
    "        # num_beams: Số lượng beams (beams > 1 cho kết quả tốt hơn, nhưng tốn VRAM hơn)\n",
    "        summary_ids = model.generate(\n",
    "            input_ids=input_ids,\n",
    "            max_new_tokens=max_target_length,\n",
    "            num_beams=4,\n",
    "            early_stopping=False\n",
    "        )\n",
    "\n",
    "    # Giải mã token IDs thành văn bản\n",
    "    summary_text = tokenizer.decode(summary_ids[0], skip_special_tokens=True)\n",
    "    return summary_text\n",
    "\n",
    "# In kết quả\n",
    "print(\"\\n--- Bài tóm tắt được tạo ra ---\")\n",
    "print(generate_summarization(input_text_1)+\"\\n\")\n",
    "print(generate_summarization(input_text_2)+\"\\n\")\n",
    "print(generate_summarization(input_text_3)+\"\\n\")\n",
    "print(generate_summarization(input_text_4)+\"\\n\")\n",
    "print(generate_summarization(input_text_5))"
   ]
  }
 ],
 "metadata": {
  "kernelspec": {
   "display_name": "venv",
   "language": "python",
   "name": "python3"
  },
  "language_info": {
   "codemirror_mode": {
    "name": "ipython",
    "version": 3
   },
   "file_extension": ".py",
   "mimetype": "text/x-python",
   "name": "python",
   "nbconvert_exporter": "python",
   "pygments_lexer": "ipython3",
   "version": "3.10.9"
  }
 },
 "nbformat": 4,
 "nbformat_minor": 5
}
